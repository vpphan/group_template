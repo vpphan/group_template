{
 "cells": [
  {
   "cell_type": "code",
   "execution_count": 41,
   "id": "09de23cd",
   "metadata": {},
   "outputs": [
    {
     "name": "stdout",
     "output_type": "stream",
     "text": [
      "Defaulting to user installation because normal site-packages is not writeable\n",
      "Requirement already satisfied: lxml in /home/ctams/.local/lib/python3.9/site-packages (5.1.0)\n",
      "\n",
      "\u001b[1m[\u001b[0m\u001b[34;49mnotice\u001b[0m\u001b[1;39;49m]\u001b[0m\u001b[39;49m A new release of pip is available: \u001b[0m\u001b[31;49m23.3.2\u001b[0m\u001b[39;49m -> \u001b[0m\u001b[32;49m24.0\u001b[0m\n",
      "\u001b[1m[\u001b[0m\u001b[34;49mnotice\u001b[0m\u001b[1;39;49m]\u001b[0m\u001b[39;49m To update, run: \u001b[0m\u001b[32;49mpip install --upgrade pip\u001b[0m\n",
      "Note: you may need to restart the kernel to use updated packages.\n"
     ]
    }
   ],
   "source": [
    "pip install lxml"
   ]
  },
  {
   "cell_type": "code",
   "execution_count": 42,
   "id": "0894d9ef",
   "metadata": {},
   "outputs": [],
   "source": [
    "import pandas as pd\n",
    "from scipy import signal\n",
    "import numpy as np\n",
    "import matplotlib as plt\n",
    "import time\n",
    "\n",
    "import matplotlib.pyplot as plt\n",
    "import warnings\n",
    "import re\n",
    "\n",
    "# Ignore all warnings\n",
    "warnings.filterwarnings(\"ignore\")"
   ]
  },
  {
   "cell_type": "code",
   "execution_count": 43,
   "id": "65564d80",
   "metadata": {},
   "outputs": [],
   "source": [
    "Combine = pd.read_csv(\"data/combine.csv\")\n",
    "Team_Stats = pd.read_csv(\"data/team_stats_2003_2023.csv\")"
   ]
  },
  {
   "cell_type": "code",
   "execution_count": 44,
   "id": "80eb411e",
   "metadata": {},
   "outputs": [],
   "source": [
    "Team_Stats = Team_Stats[Team_Stats[\"year\"] != 2023]"
   ]
  },
  {
   "cell_type": "markdown",
   "id": "f3c97457",
   "metadata": {},
   "source": [
    "## Webscrape all of the years for from pro-football reference that we are using"
   ]
  },
  {
   "cell_type": "code",
   "execution_count": 45,
   "id": "90d1d6ca",
   "metadata": {},
   "outputs": [
    {
     "data": {
      "text/plain": [
       "array([2003, 2004, 2005, 2006, 2007, 2008, 2009, 2010, 2011, 2012, 2013,\n",
       "       2014, 2015, 2016, 2017, 2018, 2019, 2020, 2021, 2022])"
      ]
     },
     "execution_count": 45,
     "metadata": {},
     "output_type": "execute_result"
    }
   ],
   "source": [
    "website_begining = 'https://www.pro-football-reference.com/years/'\n",
    "years = Team_Stats[\"year\"].unique()\n",
    "years = years\n",
    "positions = ['passing', 'rushing', 'receiving']\n",
    "years"
   ]
  },
  {
   "cell_type": "code",
   "execution_count": 8,
   "id": "95170584",
   "metadata": {},
   "outputs": [
    {
     "name": "stdout",
     "output_type": "stream",
     "text": [
      "passing\n",
      "2003\n",
      "2004\n",
      "2005\n",
      "2006\n",
      "2007\n",
      "2008\n",
      "2009\n",
      "2010\n",
      "2011\n",
      "2012\n",
      "2013\n",
      "2014\n",
      "2015\n",
      "2016\n",
      "2017\n",
      "2018\n",
      "2019\n",
      "2020\n",
      "2021\n",
      "2022\n",
      "rushing\n",
      "2003\n",
      "2004\n",
      "2005\n",
      "2006\n",
      "2007\n",
      "2008\n",
      "2009\n",
      "2010\n",
      "2011\n",
      "2012\n",
      "2013\n",
      "2014\n",
      "2015\n",
      "2016\n",
      "2017\n",
      "2018\n",
      "2019\n",
      "2020\n",
      "2021\n",
      "2022\n",
      "receiving\n",
      "2003\n",
      "2004\n",
      "2005\n",
      "2006\n",
      "2007\n",
      "2008\n",
      "2009\n",
      "2010\n",
      "2011\n",
      "2012\n",
      "2013\n",
      "2014\n",
      "2015\n",
      "2016\n",
      "2017\n",
      "2018\n",
      "2019\n",
      "2020\n",
      "2021\n",
      "2022\n"
     ]
    }
   ],
   "source": [
    "website_begining = 'https://www.pro-football-reference.com/years/'\n",
    "years = [2003, 2004, 2005, 2006, 2007, 2008, 2009, 2010, 2011, 2012, 2013, 2014, 2015, 2016, 2017, 2018, 2019, 2020, 2021, 2022]\n",
    "positions = ['passing', 'rushing', 'receiving']\n",
    "for pos in positions:\n",
    "    print(pos)\n",
    "    for year in years:\n",
    "        link = website_begining + str(year) +'/'+ pos + '.htm'\n",
    "        \n",
    "        df = pd.read_html(link)\n",
    "        \n",
    "        csv_name = 'data/'+str(year) + '_' + pos + '.csv'\n",
    "        df[0].to_csv(csv_name, sep=',', index=False, encoding='utf-8')\n",
    "        time.sleep(4.2) #wait four seconds\n",
    "        print(year)"
   ]
  },
  {
   "cell_type": "markdown",
   "id": "7c3a72ce",
   "metadata": {},
   "source": [
    "## Concat the tables together to put them all into one data frame and take out unnessary data from player name"
   ]
  },
  {
   "cell_type": "code",
   "execution_count": 46,
   "id": "0d2f8197",
   "metadata": {},
   "outputs": [],
   "source": [
    "passing = pd.read_csv('data/2003_passing.csv')\n",
    "\n",
    "passing[\"Year\"] = years[0]\n",
    "for year in years[1:]:\n",
    "    temp = pd.read_csv('data/' + str(year) + '_passing.csv')\n",
    "    temp[\"Year\"] = year\n",
    "    passing = pd.concat([passing, temp])\n",
    "    \n",
    "passing = passing[passing[\"Pos\"] == \"QB\"]\n",
    "passing.reset_index(drop=True, inplace=True)"
   ]
  },
  {
   "cell_type": "code",
   "execution_count": 47,
   "id": "29260b82",
   "metadata": {},
   "outputs": [],
   "source": [
    "index = 0\n",
    "for name in passing[\"Player\"]:\n",
    "    front = name[:-2]\n",
    "    \n",
    "    back = re.sub(r'[^a-zA-Z]', '', name[-2:])\n",
    "    \n",
    "    passing[\"Player\"][index] = front + back\n",
    "    \n",
    "    index += 1"
   ]
  },
  {
   "cell_type": "code",
   "execution_count": null,
   "id": "c0823451",
   "metadata": {},
   "outputs": [],
   "source": []
  },
  {
   "cell_type": "code",
   "execution_count": 48,
   "id": "28fa766e",
   "metadata": {},
   "outputs": [],
   "source": [
    "rushing = pd.read_csv('data/2003_rushing.csv')\n",
    "\n",
    "rushing[\"Year\"] = years[0]\n",
    "\n",
    "for year in years[1:]:\n",
    "    temp = pd.read_csv('data/' + str(year) + '_rushing.csv')\n",
    "    temp[\"Year\"] = year\n",
    "    rushing = pd.concat([rushing, temp])\n",
    "    \n",
    "    \n",
    "rushing.columns = rushing.iloc[0]\n",
    "rushing = rushing.drop(0)\n",
    "rushing.rename(columns={2003: 'Year'}, inplace=True)\n",
    "\n",
    "rushing = rushing[rushing[\"Pos\"] == \"RB\"]\n",
    "rushing.reset_index(drop=True, inplace=True)"
   ]
  },
  {
   "cell_type": "code",
   "execution_count": 49,
   "id": "b2cc6efe",
   "metadata": {},
   "outputs": [],
   "source": [
    "index = 0\n",
    "for name in rushing[\"Player\"]:\n",
    "    front = name[:-2]\n",
    "    \n",
    "    back = re.sub(r'[^a-zA-Z]', '', name[-2:])\n",
    "    \n",
    "    rushing[\"Player\"][index] = front + back\n",
    "    \n",
    "    index += 1\n"
   ]
  },
  {
   "cell_type": "code",
   "execution_count": null,
   "id": "d703e09f",
   "metadata": {},
   "outputs": [],
   "source": []
  },
  {
   "cell_type": "code",
   "execution_count": 50,
   "id": "e5bf08b9",
   "metadata": {},
   "outputs": [],
   "source": [
    "receiving = pd.read_csv('data/2003_receiving.csv')\n",
    "\n",
    "receiving[\"Year\"] = years[0]\n",
    "for year in years[1:]:\n",
    "    temp = pd.read_csv('data/' + str(year) + '_receiving.csv')\n",
    "    temp[\"Year\"] = year\n",
    "    receiving = pd.concat([receiving, temp])\n",
    "    \n",
    "receiving = receiving[receiving[\"Pos\"] == \"WR\"]\n",
    "receiving.reset_index(drop=True, inplace=True)"
   ]
  },
  {
   "cell_type": "code",
   "execution_count": 51,
   "id": "71682a13",
   "metadata": {},
   "outputs": [],
   "source": [
    "index = 0\n",
    "for name in receiving[\"Player\"]:\n",
    "    front = name[:-2]\n",
    "    \n",
    "    back = re.sub(r'[^a-zA-Z]', '', name[-2:])\n",
    "    \n",
    "    receiving[\"Player\"][index] = front + back\n",
    "    \n",
    "    index += 1\n",
    "    "
   ]
  },
  {
   "cell_type": "code",
   "execution_count": 52,
   "id": "030883b5",
   "metadata": {},
   "outputs": [
    {
     "name": "stdout",
     "output_type": "stream",
     "text": [
      "Begining Shapes of DataFrames:\n",
      "\n",
      "Passing Observations: 1475        Passing Parameters: 31 \n",
      "\n",
      "Rushing Observations: 2671        Rushing Parameters: 15 \n",
      "\n",
      "Receiving Observations: 4020      Receiving Parameters: 19 \n",
      "\n"
     ]
    }
   ],
   "source": [
    "print(\"Begining Shapes of DataFrames:\\n\")\n",
    "print('Passing Observations:', passing.shape[0], '       Passing Parameters:', passing.shape[1] - 2, '\\n')\n",
    "print('Rushing Observations:', rushing.shape[0], '       Rushing Parameters:', rushing.shape[1] - 2, '\\n')\n",
    "print('Receiving Observations:', receiving.shape[0], '     Receiving Parameters:', receiving.shape[1] - 2, '\\n')"
   ]
  },
  {
   "cell_type": "markdown",
   "id": "88e6e1fd",
   "metadata": {},
   "source": [
    "## Putting Combine Data into Positional Dfs"
   ]
  },
  {
   "cell_type": "code",
   "execution_count": 53,
   "id": "6e5ddecb",
   "metadata": {},
   "outputs": [],
   "source": [
    "for col in Combine.columns:\n",
    "    passing[col] = 0\n",
    "    rushing[col] = 0\n",
    "    receiving[col] = 0"
   ]
  },
  {
   "cell_type": "code",
   "execution_count": 54,
   "id": "e47f11bb",
   "metadata": {},
   "outputs": [
    {
     "name": "stdout",
     "output_type": "stream",
     "text": [
      "70% of the players had Combine data\n"
     ]
    }
   ],
   "source": [
    "for col in Combine.columns:\n",
    "    passing[col] = 0\n",
    "passing_names = passing[\"Player\"].unique()\n",
    "combine_names = Combine[\"nameFull\"].unique()\n",
    "\n",
    "has_data = 0\n",
    "for name in passing_names:\n",
    "    if name in combine_names:\n",
    "        combine_values = Combine[Combine[\"nameFull\"]==name].values.tolist()[0]\n",
    "        passing.loc[passing[\"Player\"] == name, Combine.columns] = combine_values\n",
    "        \n",
    "        has_data += 1\n",
    "    \n",
    "    \n",
    "print(str(int(100*has_data/len(passing_names))) + \"% of the players had Combine data\")\n",
    "passing = passing[passing[\"hsCountry\"] != 0]"
   ]
  },
  {
   "cell_type": "code",
   "execution_count": 55,
   "id": "27002227",
   "metadata": {},
   "outputs": [
    {
     "name": "stdout",
     "output_type": "stream",
     "text": [
      "57% of the players had Combine data\n"
     ]
    }
   ],
   "source": [
    "rushing_names = rushing[\"Player\"].unique()\n",
    "combine_names = Combine[\"nameFull\"].unique()\n",
    "\n",
    "has_data = 0\n",
    "for name in rushing_names:\n",
    "    if name in combine_names:\n",
    "        combine_values = Combine[Combine[\"nameFull\"]==name].values.tolist()[0]\n",
    "        rushing.loc[rushing[\"Player\"] == name, Combine.columns] = combine_values\n",
    "        \n",
    "        has_data += 1\n",
    "    \n",
    "    \n",
    "print(str(int(100*has_data/len(rushing_names))) + \"% of the players had Combine data\")\n",
    "rushing = rushing[rushing[\"hsCountry\"] != 0]"
   ]
  },
  {
   "cell_type": "code",
   "execution_count": 56,
   "id": "640494c3",
   "metadata": {},
   "outputs": [
    {
     "name": "stdout",
     "output_type": "stream",
     "text": [
      "49% of the players had Combine data\n"
     ]
    }
   ],
   "source": [
    "receiving_names = receiving[\"Player\"].unique()\n",
    "combine_names = Combine[\"nameFull\"].unique()\n",
    "\n",
    "has_data = 0\n",
    "for name in receiving_names:\n",
    "    if name in combine_names:\n",
    "        combine_values = Combine[Combine[\"nameFull\"]==name].values.tolist()[0]\n",
    "        receiving.loc[receiving[\"Player\"] == name, Combine.columns] = combine_values\n",
    "        \n",
    "        has_data += 1\n",
    "    \n",
    "    \n",
    "print(str(int(100*has_data/len(receiving_names))) + \"% of the players had Combine data\")\n",
    "receiving = receiving[receiving[\"hsCountry\"] != 0]"
   ]
  },
  {
   "cell_type": "code",
   "execution_count": 57,
   "id": "3556083e",
   "metadata": {},
   "outputs": [],
   "source": [
    "passing.drop(columns=['Rk'], inplace=True)\n",
    "rushing.drop(columns=['Rk'], inplace=True)\n",
    "receiving.drop(columns=['Rk'], inplace=True)"
   ]
  },
  {
   "cell_type": "markdown",
   "id": "a7259fdb",
   "metadata": {},
   "source": [
    "## Putting the team data into Positional Dfs"
   ]
  },
  {
   "cell_type": "code",
   "execution_count": 58,
   "id": "8ea7d25e",
   "metadata": {},
   "outputs": [],
   "source": [
    "index = 0\n",
    "for team in Team_Stats[\"team\"]:\n",
    "    team_split = team.split(\" \")\n",
    "    simple = team_split[-1]\n",
    "    \n",
    "    Team_Stats[\"team\"][index] = simple\n",
    "    index += 1"
   ]
  },
  {
   "cell_type": "code",
   "execution_count": null,
   "id": "fa2ea63f",
   "metadata": {},
   "outputs": [],
   "source": []
  },
  {
   "cell_type": "code",
   "execution_count": 59,
   "id": "fd0d62ae",
   "metadata": {},
   "outputs": [],
   "source": [
    "Team_Stats[\"team\"] = Team_Stats[\"team\"].replace(\"Redskins\", \"Commanders\")\n",
    "Team_Stats[\"team\"] = Team_Stats[\"team\"].replace(\"Team\", \"Commanders\")"
   ]
  },
  {
   "cell_type": "code",
   "execution_count": 60,
   "id": "52787848",
   "metadata": {},
   "outputs": [],
   "source": [
    "df_list = [passing, rushing, receiving]"
   ]
  },
  {
   "cell_type": "code",
   "execution_count": 61,
   "id": "afc362ec",
   "metadata": {},
   "outputs": [],
   "source": [
    "for df in df_list:\n",
    "    df[\"Tm\"] = df[\"Tm\"].replace(\"MIN\", \"Vikings\")\n",
    "    df[\"Tm\"] = df[\"Tm\"].replace(\"KAN\", \"Chiefs\")\n",
    "    df[\"Tm\"] = df[\"Tm\"].replace(\"IND\", \"Colts\")\n",
    "    df[\"Tm\"] = df[\"Tm\"].replace(\"DEN\", \"Broncos\")\n",
    "    df[\"Tm\"] = df[\"Tm\"].replace(\"GNB\", \"Packers\")\n",
    "    df[\"Tm\"] = df[\"Tm\"].replace(\"STL\", \"Rams\")#\n",
    "    df[\"Tm\"] = df[\"Tm\"].replace(\"PHI\", \"Eagles\")\n",
    "    df[\"Tm\"] = df[\"Tm\"].replace(\"NOR\", \"Steelers\")#\n",
    "    df[\"Tm\"] = df[\"Tm\"].replace(\"NWE\", \"Patriots\")\n",
    "    df[\"Tm\"] = df[\"Tm\"].replace(\"DAL\", \"Cowboys\")\n",
    "\n",
    "    df[\"Tm\"] = df[\"Tm\"].replace(\"HOU\", \"Texans\")\n",
    "    df[\"Tm\"] = df[\"Tm\"].replace(\"OAK\", \"Raiders\")\n",
    "    df[\"Tm\"] = df[\"Tm\"].replace(\"SDG\", \"Chargers\")\n",
    "    df[\"Tm\"] = df[\"Tm\"].replace(\"DET\", \"Lions\")\n",
    "    df[\"Tm\"] = df[\"Tm\"].replace(\"JAX\", \"Jaguars\")\n",
    "    df[\"Tm\"] = df[\"Tm\"].replace(\"BUF\", \"Bills\")\n",
    "    df[\"Tm\"] = df[\"Tm\"].replace(\"CIN\", \"Bengals\")\n",
    "    df[\"Tm\"] = df[\"Tm\"].replace(\"NYJ\", \"Jets\")\n",
    "    df[\"Tm\"] = df[\"Tm\"].replace(\"PIT\", \"Steelers\")\n",
    "    df[\"Tm\"] = df[\"Tm\"].replace(\"BAL\", \"Ravens\")\n",
    "\n",
    "    df[\"Tm\"] = df[\"Tm\"].replace(\"ARI\", \"Cardinals\")\n",
    "    df[\"Tm\"] = df[\"Tm\"].replace(\"ATL\", \"Falcons\")\n",
    "    df[\"Tm\"] = df[\"Tm\"].replace(\"IND\", \"Colts\")\n",
    "    df[\"Tm\"] = df[\"Tm\"].replace(\"SFO\", \"49ers\")\n",
    "    df[\"Tm\"] = df[\"Tm\"].replace(\"CLE\", \"Browns\")\n",
    "    df[\"Tm\"] = df[\"Tm\"].replace(\"TEN\", \"Titans\")\n",
    "    df[\"Tm\"] = df[\"Tm\"].replace(\"WAS\", \"Commanders\")\n",
    "    df[\"Tm\"] = df[\"Tm\"].replace(\"NYG\", \"Giants\")\n",
    "    df[\"Tm\"] = df[\"Tm\"].replace(\"CHI\", \"Bears\")\n",
    "    df[\"Tm\"] = df[\"Tm\"].replace(\"TAM\", \"Buccaneers\")\n",
    "\n",
    "    df[\"Tm\"] = df[\"Tm\"].replace(\"MIA\", \"Dolphins\")\n",
    "    df[\"Tm\"] = df[\"Tm\"].replace(\"CAR\", \"Panthers\")\n",
    "    df[\"Tm\"] = df[\"Tm\"].replace(\"SEA\", \"Seahawks\")\n",
    "    df[\"Tm\"] = df[\"Tm\"].replace(\"2TM\", \"Take_out\")\n",
    "    df[\"Tm\"] = df[\"Tm\"].replace(\"LAR\", \"Rams\")\n",
    "    df[\"Tm\"] = df[\"Tm\"].replace(\"LAC\", \"Chargers\")\n",
    "    df[\"Tm\"] = df[\"Tm\"].replace(\"LVR\", \"Raiders\")\n",
    "    \n",
    "    df[\"Tm\"] = df[\"Tm\"].replace(\"Team\", \"Commanders\")"
   ]
  },
  {
   "cell_type": "code",
   "execution_count": 62,
   "id": "789a3af7",
   "metadata": {},
   "outputs": [],
   "source": [
    "passing = passing[(passing[\"Tm\"] != \"Take_out\") & (passing[\"Tm\"] != \"3TM\")]\n",
    "rushing = rushing[(rushing[\"Tm\"] != \"Take_out\") & (rushing[\"Tm\"] != \"3TM\" )]\n",
    "receiving = receiving[(receiving[\"Tm\"] != \"Take_out\") & (receiving[\"Tm\"] != \"3TM\")]"
   ]
  },
  {
   "cell_type": "code",
   "execution_count": null,
   "id": "f99c54b2",
   "metadata": {},
   "outputs": [],
   "source": []
  },
  {
   "cell_type": "code",
   "execution_count": 63,
   "id": "4b839982",
   "metadata": {},
   "outputs": [],
   "source": [
    "pos_team_cols =Team_Stats.columns[2:]\n",
    "for col in pos_team_cols:\n",
    "    passing[\"team_\" + col] = 0\n",
    "    rushing[\"team_\" + col] = 0\n",
    "    receiving[\"team_\" + col] = 0\n",
    "    \n",
    "\n",
    "passing.reset_index(drop=True, inplace=True)\n",
    "rushing.reset_index(drop=True, inplace=True)\n",
    "receiving.reset_index(drop=True, inplace=True)"
   ]
  },
  {
   "cell_type": "code",
   "execution_count": null,
   "id": "30a3ef2b",
   "metadata": {},
   "outputs": [],
   "source": []
  },
  {
   "cell_type": "code",
   "execution_count": 64,
   "id": "6cfe3e23",
   "metadata": {},
   "outputs": [],
   "source": [
    "df_list = [passing, rushing, receiving]\n",
    "team_years = Team_Stats[\"year\"].unique()\n",
    "for df in df_list:\n",
    "    for year in team_years:\n",
    "        for team in Team_Stats[\"team\"].unique():\n",
    "            team_values = Team_Stats[(Team_Stats[\"team\"]==team) & (Team_Stats[\"year\"]==year)].values.tolist()[0]\n",
    "            df.loc[(df[\"Tm\"] == team) & (df[\"Year\"] == year), \"team_\" + Team_Stats.columns[2:]] = team_values[2:]"
   ]
  },
  {
   "cell_type": "code",
   "execution_count": null,
   "id": "d5a5a1ff",
   "metadata": {},
   "outputs": [],
   "source": []
  },
  {
   "cell_type": "markdown",
   "id": "9d05cd2b",
   "metadata": {},
   "source": [
    "## Taking out unnessary Columns"
   ]
  },
  {
   "cell_type": "code",
   "execution_count": 65,
   "id": "8e56638d",
   "metadata": {},
   "outputs": [
    {
     "name": "stdout",
     "output_type": "stream",
     "text": [
      "18.0 % was questionable\n",
      "['Pos', 'QBrec', 'combinePosition', 'nameFirst', 'nameLast', 'nameFull', 'position', 'nflId', 'college', 'dob', 'playerProfileUrl', 'homeCity', 'homeState', 'homeCountry', 'highSchool', 'hsCity', 'hsState', 'hsCountry']\n",
      "20.238095238095237 % was questionable\n",
      "['Pos', 'combinePosition', 'nameFirst', 'nameLast', 'nameFull', 'position', 'nflId', 'college', 'dob', 'playerProfileUrl', 'homeCity', 'homeState', 'homeCountry', 'highSchool', 'hsCity', 'hsState', 'hsCountry']\n",
      "20.454545454545453 % was questionable\n",
      "['Pos', 'Ctch%', 'combinePosition', 'nameFirst', 'nameLast', 'nameFull', 'position', 'nflId', 'college', 'dob', 'playerProfileUrl', 'homeCity', 'homeState', 'homeCountry', 'highSchool', 'hsCity', 'hsState', 'hsCountry']\n"
     ]
    }
   ],
   "source": [
    "df_list = [passing, rushing, receiving]\n",
    "questionable_cols = []\n",
    "for df in df_list:\n",
    "    question = 0\n",
    "    question_temp = []\n",
    "    for col in df.columns:\n",
    "        if type(df[col][0]) != float or type(df[col][0]) != int:\n",
    "            if col != 'Player' and col != 'Tm':\n",
    "                try:\n",
    "                    df[col] = df[col].astype(float)\n",
    "                except:\n",
    "                    question_temp.append(col)\n",
    "                    question += 1\n",
    "\n",
    "    print(100*question/len(df.columns), \"% was questionable\")\n",
    "    print(question_temp)\n",
    "    questionable_cols.append(question_temp)"
   ]
  },
  {
   "cell_type": "code",
   "execution_count": 66,
   "id": "7efcb91d",
   "metadata": {},
   "outputs": [],
   "source": [
    "passing = passing.drop(columns = [questionable_cols[0]][0])\n",
    "rushing = rushing.drop(columns = [questionable_cols[1]][0])\n",
    "receiving = receiving.drop(columns = [questionable_cols[2]][0])"
   ]
  },
  {
   "cell_type": "code",
   "execution_count": null,
   "id": "5defc908",
   "metadata": {},
   "outputs": [],
   "source": []
  },
  {
   "cell_type": "markdown",
   "id": "1d8e6a3c",
   "metadata": {},
   "source": [
    "## Deal with Nan values"
   ]
  },
  {
   "cell_type": "code",
   "execution_count": 67,
   "id": "bc9403a1",
   "metadata": {},
   "outputs": [
    {
     "name": "stdout",
     "output_type": "stream",
     "text": [
      "4QC 45.950554134697356\n",
      "GWD 45.950554134697356\n",
      "QBR 15.515771526001704\n",
      "combineHand 88.57630008525149\n",
      "combineArm 88.7468030690537\n",
      "combine40yd 6.138107416879795\n",
      "combineVert 23.017902813299234\n",
      "combineBench 94.8849104859335\n",
      "combineShuttle 27.621483375959077\n",
      "combineBroad 24.21142369991475\n",
      "combine3cone 31.54305200341006\n",
      "combine60ydShuttle 98.80647911338448\n",
      "combineWonderlic 30.434782608695656\n",
      "team_mov 48.4228473998295\n",
      "team_ties 51.57715260017051\n",
      "0.18292682926829268\n",
      "combineHand 92.90780141843972\n",
      "combineArm 93.14420803782507\n",
      "combine40yd 6.796690307328605\n",
      "combineVert 11.93853427895981\n",
      "combineBench 18.55791962174941\n",
      "combineShuttle 33.92434988179669\n",
      "combineBroad 15.425531914893616\n",
      "combine3cone 39.00709219858156\n",
      "combine60ydShuttle 97.04491725768321\n",
      "combineWonderlic 93.91252955082743\n",
      "team_mov 50.945626477541374\n",
      "team_ties 49.054373522458626\n",
      "0.1791044776119403\n",
      "combineHand 88.15331010452961\n",
      "combineArm 88.93728222996515\n",
      "combine40yd 6.837979094076655\n",
      "combineVert 13.937282229965156\n",
      "combineBench 48.86759581881533\n",
      "combineShuttle 28.527874564459932\n",
      "combineBroad 16.72473867595819\n",
      "combine3cone 37.58710801393728\n",
      "combine60ydShuttle 93.8588850174216\n",
      "combineWonderlic 93.72822299651567\n",
      "team_mov 49.56445993031359\n",
      "team_ties 50.39198606271778\n",
      "0.17142857142857143\n"
     ]
    }
   ],
   "source": [
    "df_list = [passing, rushing, receiving]\n",
    "nan_columns = []\n",
    "for df in df_list:\n",
    "    temp_nan = []\n",
    "    total = 0\n",
    "    for col in df.columns:\n",
    "        column_nan_percentage = df[col].isna().mean()\n",
    "        if column_nan_percentage >= 0.05:\n",
    "            print(col, column_nan_percentage*100)\n",
    "            total += 1\n",
    "            temp_nan.append(col)\n",
    "    nan_columns.append(temp_nan)\n",
    "    print(total/len(df.columns))"
   ]
  },
  {
   "cell_type": "code",
   "execution_count": 68,
   "id": "efc7a261",
   "metadata": {},
   "outputs": [],
   "source": [
    "passing = passing.drop(columns = [nan_columns[0]][0])\n",
    "rushing = rushing.drop(columns = [nan_columns[1]][0])\n",
    "receiving = receiving.drop(columns = [nan_columns[2]][0])"
   ]
  },
  {
   "cell_type": "markdown",
   "id": "7dc79ebf",
   "metadata": {},
   "source": [
    "## Replace rest of Nan with column average"
   ]
  },
  {
   "cell_type": "code",
   "execution_count": 69,
   "id": "ff588b32",
   "metadata": {},
   "outputs": [
    {
     "name": "stdout",
     "output_type": "stream",
     "text": [
      "Y/C\n",
      "ageAtDraft\n",
      "ageAtDraft\n",
      "Tgt\n",
      "Y/R\n",
      "Succ%\n",
      "Y/Tgt\n",
      "Fmb\n",
      "ageAtDraft\n"
     ]
    }
   ],
   "source": [
    "df_list = [passing, rushing, receiving]\n",
    "for df in df_list:\n",
    "    total = 0\n",
    "    for col in df.columns:\n",
    "        column_nan_percentage = df[col].isna().mean()\n",
    "        if column_nan_percentage > 0:\n",
    "            \n",
    "            column_average = df[col].mean()\n",
    "\n",
    "\n",
    "            df[col] = df[col].fillna(column_average)\n",
    "            print(col)"
   ]
  },
  {
   "cell_type": "markdown",
   "id": "7e87b6e0",
   "metadata": {},
   "source": [
    "# WebScrape Fantasy Football Rankings from Pro Football Reference"
   ]
  },
  {
   "cell_type": "code",
   "execution_count": 70,
   "id": "d4030175",
   "metadata": {},
   "outputs": [
    {
     "data": {
      "text/plain": [
       "array([2004, 2005, 2006, 2007, 2008, 2009, 2010, 2011, 2012, 2013, 2014,\n",
       "       2015, 2016, 2017, 2018, 2019, 2020, 2021, 2022, 2023])"
      ]
     },
     "execution_count": 70,
     "metadata": {},
     "output_type": "execute_result"
    }
   ],
   "source": [
    "website_begining = 'https://www.pro-football-reference.com/years/'\n",
    "years = Team_Stats[\"year\"].unique()\n",
    "years_fantasy = years + 1\n",
    "positions = ['passing', 'rushing', 'receiving']\n",
    "years_fantasy"
   ]
  },
  {
   "cell_type": "code",
   "execution_count": 196,
   "id": "fafa7226",
   "metadata": {},
   "outputs": [
    {
     "name": "stdout",
     "output_type": "stream",
     "text": [
      "2004\n",
      "2005\n",
      "2006\n",
      "2007\n",
      "2008\n",
      "2009\n",
      "2010\n",
      "2011\n",
      "2012\n",
      "2013\n",
      "2014\n",
      "2015\n",
      "2016\n",
      "2017\n",
      "2018\n",
      "2019\n",
      "2020\n",
      "2021\n",
      "2022\n",
      "2023\n"
     ]
    }
   ],
   "source": [
    "for year in years_fantasy:\n",
    "    link = website_begining + str(year) + '/fantasy.htm'\n",
    "\n",
    "    df = pd.read_html(link)\n",
    "\n",
    "    csv_name = 'data/'+str(year) + '_Fantasy_Score.csv'\n",
    "    df[0].to_csv(csv_name, sep=',', index=False, encoding='utf-8')\n",
    "    time.sleep(4.2) #wait four seconds\n",
    "    print(year)"
   ]
  },
  {
   "cell_type": "code",
   "execution_count": 71,
   "id": "ba0b0284",
   "metadata": {},
   "outputs": [],
   "source": [
    "Fantasy = pd.read_csv('data/2003_Fantasy_Score.csv')\n",
    "\n",
    "Fantasy[\"Year\"] = years_fantasy[0]\n",
    "for year in years_fantasy[1:]:\n",
    "    temp = pd.read_csv('data/' + str(year) + '_Fantasy_Score.csv')\n",
    "    temp[\"Year\"] = year\n",
    "    Fantasy = pd.concat([Fantasy, temp])\n",
    "    \n",
    "    \n",
    "    \n",
    "Fantasy.columns = Fantasy.iloc[0]\n",
    "Fantasy = Fantasy.drop(0)\n",
    "Fantasy.rename(columns={years_fantasy[0]: 'Year'}, inplace=True)\n",
    "\n",
    "\n",
    "Fantasy = Fantasy[(Fantasy[\"FantPos\"] == \"QB\") | (Fantasy[\"FantPos\"] == \"WR\") | (Fantasy[\"FantPos\"] == \"RB\")]\n",
    "\n",
    "Fantasy.reset_index(drop=True, inplace=True)"
   ]
  },
  {
   "cell_type": "code",
   "execution_count": null,
   "id": "904f46be",
   "metadata": {},
   "outputs": [],
   "source": []
  },
  {
   "cell_type": "code",
   "execution_count": 72,
   "id": "c7206406",
   "metadata": {},
   "outputs": [],
   "source": [
    "index = 0\n",
    "for name in Fantasy[\"Player\"]:\n",
    "    front = name[:-2]\n",
    "    \n",
    "    back = re.sub(r'[^a-zA-Z]', '', name[-2:])\n",
    "    \n",
    "    Fantasy[\"Player\"][index] = front + back\n",
    "    \n",
    "    index += 1\n",
    "    \n",
    "keep_columns = ['Player', 'PosRank', 'Year']\n",
    "\n",
    "Fantasy = Fantasy[keep_columns]"
   ]
  },
  {
   "cell_type": "markdown",
   "id": "95ab93c7",
   "metadata": {},
   "source": [
    "# Add Rankings to Dfs"
   ]
  },
  {
   "cell_type": "code",
   "execution_count": 73,
   "id": "adbcbe16",
   "metadata": {},
   "outputs": [],
   "source": [
    "\n",
    "passing[\"Next_Year_PosRank\"] = 0\n",
    "rushing[\"Next_Year_PosRank\"] = 0\n",
    "receiving[\"Next_Year_PosRank\"] = 0\n",
    "    \n",
    "\n",
    "passing.reset_index(drop=True, inplace=True)\n",
    "rushing.reset_index(drop=True, inplace=True)\n",
    "receiving.reset_index(drop=True, inplace=True)"
   ]
  },
  {
   "cell_type": "code",
   "execution_count": 74,
   "id": "c72690b1",
   "metadata": {},
   "outputs": [
    {
     "name": "stdout",
     "output_type": "stream",
     "text": [
      "82% of the players had PosRank data\n"
     ]
    }
   ],
   "source": [
    "\n",
    "fantasy_names = Fantasy[\"Player\"].unique()\n",
    "total = 0\n",
    "has_data = 0\n",
    "for df in df_list:\n",
    "    df_names = df[\"Player\"].unique()\n",
    "    total += len(df_names)\n",
    "    for name in df_names:\n",
    "        if name in fantasy_names:\n",
    "            for year in years:\n",
    "                try:\n",
    "                    fantasy_value = int(Fantasy[(Fantasy[\"Player\"] == name) & (Fantasy[\"Year\"] == year + 1)][\"PosRank\"])\n",
    "                \n",
    "                    df.loc[(df[\"Player\"] == name) & (df[\"Year\"] == year), ['Next_Year_PosRank']] = fantasy_value\n",
    "        \n",
    "                #df[(df[\"Player\"] == name) & (df[\"Year\"] == year)]['PosRank'] = fantasy_value\n",
    "\n",
    "                    has_data += 1\n",
    "                    total += 1\n",
    "                except:\n",
    "                    pass\n",
    "    \n",
    "    \n",
    "print(str(int(100*has_data/total)) + \"% of the players had PosRank data\")"
   ]
  },
  {
   "cell_type": "code",
   "execution_count": 75,
   "id": "711dc677",
   "metadata": {},
   "outputs": [],
   "source": [
    "passing = passing[passing[\"Next_Year_PosRank\"] != 0]\n",
    "rushing = rushing[rushing[\"Next_Year_PosRank\"] != 0]\n",
    "receiving = receiving[receiving[\"Next_Year_PosRank\"] != 0]\n",
    "\n",
    "passing.reset_index(drop=True, inplace=True)\n",
    "rushing.reset_index(drop=True, inplace=True)\n",
    "receiving.reset_index(drop=True, inplace=True)\n",
    "\n",
    "df_list = [passing, rushing, receiving]\n",
    "for df in df_list:\n",
    "    for index in range(df.shape[0]):\n",
    "        stop = 0\n",
    "        order = 1\n",
    "        value = df[\"Next_Year_PosRank\"][index]\n",
    "\n",
    "        while stop == 0:\n",
    "            if value <= 10:\n",
    "                \n",
    "                df.loc[[index], ['Next_Year_PosRank']] = order * 10\n",
    "                stop = 1\n",
    "               \n",
    "            elif order >= 5:\n",
    "                df.loc[[index], ['Next_Year_PosRank']] = 50\n",
    "                stop = 1\n",
    "                \n",
    "            else:\n",
    "                value -= 10\n",
    "                order += 1\n",
    "        "
   ]
  },
  {
   "cell_type": "code",
   "execution_count": 76,
   "id": "69085719",
   "metadata": {},
   "outputs": [],
   "source": [
    "passing.to_csv('data/Non_Normalize_Cleaned_Passing.csv', sep=',', index=False, encoding='utf-8')\n",
    "rushing.to_csv('data/Non_Normalize_Cleaned_Rushing.csv', sep=',', index=False, encoding='utf-8')\n",
    "receiving.to_csv('data/Non_Normalize_Cleaned_Receiving.csv', sep=',', index=False, encoding='utf-8')"
   ]
  },
  {
   "cell_type": "markdown",
   "id": "5201a440",
   "metadata": {},
   "source": [
    "# Normalizing all of the columns using Z-Score normalization"
   ]
  },
  {
   "cell_type": "code",
   "execution_count": 77,
   "id": "4f580fb9",
   "metadata": {},
   "outputs": [],
   "source": [
    "from sklearn.preprocessing import StandardScaler\n",
    "scaler_standard = StandardScaler()\n",
    "\n",
    "df_list = [passing, rushing, receiving]\n",
    "for df in df_list:\n",
    "    for col in df.columns:\n",
    "        if (df[col].dtype == float or df[col].dtype == int) and col != \"Next_Year_PosRank\":\n",
    "            df[col] = scaler_standard.fit_transform(df[[col]])\n"
   ]
  },
  {
   "cell_type": "code",
   "execution_count": 78,
   "id": "fd9d18d6",
   "metadata": {},
   "outputs": [
    {
     "data": {
      "text/html": [
       "<div>\n",
       "<style scoped>\n",
       "    .dataframe tbody tr th:only-of-type {\n",
       "        vertical-align: middle;\n",
       "    }\n",
       "\n",
       "    .dataframe tbody tr th {\n",
       "        vertical-align: top;\n",
       "    }\n",
       "\n",
       "    .dataframe thead th {\n",
       "        text-align: right;\n",
       "    }\n",
       "</style>\n",
       "<table border=\"1\" class=\"dataframe\">\n",
       "  <thead>\n",
       "    <tr style=\"text-align: right;\">\n",
       "      <th></th>\n",
       "      <th>Player</th>\n",
       "      <th>Tm</th>\n",
       "      <th>Age</th>\n",
       "      <th>G</th>\n",
       "      <th>GS</th>\n",
       "      <th>Cmp</th>\n",
       "      <th>Att</th>\n",
       "      <th>Cmp%</th>\n",
       "      <th>Yds</th>\n",
       "      <th>TD</th>\n",
       "      <th>...</th>\n",
       "      <th>team_rush_td</th>\n",
       "      <th>team_rush_yds_per_att</th>\n",
       "      <th>team_rush_fd</th>\n",
       "      <th>team_penalties</th>\n",
       "      <th>team_penalties_yds</th>\n",
       "      <th>team_pen_fd</th>\n",
       "      <th>team_score_pct</th>\n",
       "      <th>team_turnover_pct</th>\n",
       "      <th>team_exp_pts_tot</th>\n",
       "      <th>Next_Year_PosRank</th>\n",
       "    </tr>\n",
       "  </thead>\n",
       "  <tbody>\n",
       "    <tr>\n",
       "      <th>0</th>\n",
       "      <td>Peyton Manning</td>\n",
       "      <td>Colts</td>\n",
       "      <td>-0.319085</td>\n",
       "      <td>1.082989</td>\n",
       "      <td>1.136858</td>\n",
       "      <td>1.402871</td>\n",
       "      <td>1.255367</td>\n",
       "      <td>0.617412</td>\n",
       "      <td>1.333184</td>\n",
       "      <td>1.361130</td>\n",
       "      <td>...</td>\n",
       "      <td>0.547710</td>\n",
       "      <td>-1.131008</td>\n",
       "      <td>0.253217</td>\n",
       "      <td>-0.639106</td>\n",
       "      <td>-1.349864</td>\n",
       "      <td>0.575803</td>\n",
       "      <td>1.924336</td>\n",
       "      <td>-0.756324</td>\n",
       "      <td>0.274543</td>\n",
       "      <td>10</td>\n",
       "    </tr>\n",
       "    <tr>\n",
       "      <th>1</th>\n",
       "      <td>Trent Green</td>\n",
       "      <td>Chiefs</td>\n",
       "      <td>1.045728</td>\n",
       "      <td>1.082989</td>\n",
       "      <td>1.136858</td>\n",
       "      <td>1.054672</td>\n",
       "      <td>1.058729</td>\n",
       "      <td>0.258524</td>\n",
       "      <td>1.193848</td>\n",
       "      <td>0.934672</td>\n",
       "      <td>...</td>\n",
       "      <td>3.804551</td>\n",
       "      <td>0.252969</td>\n",
       "      <td>1.061966</td>\n",
       "      <td>-1.447773</td>\n",
       "      <td>-1.101117</td>\n",
       "      <td>-0.104547</td>\n",
       "      <td>0.705557</td>\n",
       "      <td>-1.290563</td>\n",
       "      <td>0.706318</td>\n",
       "      <td>10</td>\n",
       "    </tr>\n",
       "    <tr>\n",
       "      <th>2</th>\n",
       "      <td>Marc Bulger</td>\n",
       "      <td>Rams</td>\n",
       "      <td>-0.546554</td>\n",
       "      <td>0.899633</td>\n",
       "      <td>0.982287</td>\n",
       "      <td>1.097309</td>\n",
       "      <td>1.099886</td>\n",
       "      <td>0.267726</td>\n",
       "      <td>1.075290</td>\n",
       "      <td>0.764089</td>\n",
       "      <td>...</td>\n",
       "      <td>1.158368</td>\n",
       "      <td>-1.361670</td>\n",
       "      <td>-0.100610</td>\n",
       "      <td>-0.639106</td>\n",
       "      <td>-1.315316</td>\n",
       "      <td>-0.104547</td>\n",
       "      <td>1.132130</td>\n",
       "      <td>1.317781</td>\n",
       "      <td>-0.959684</td>\n",
       "      <td>10</td>\n",
       "    </tr>\n",
       "    <tr>\n",
       "      <th>3</th>\n",
       "      <td>Brad Johnson</td>\n",
       "      <td>Buccaneers</td>\n",
       "      <td>1.500666</td>\n",
       "      <td>1.082989</td>\n",
       "      <td>1.136858</td>\n",
       "      <td>1.225219</td>\n",
       "      <td>1.273659</td>\n",
       "      <td>0.166501</td>\n",
       "      <td>1.054512</td>\n",
       "      <td>1.105255</td>\n",
       "      <td>...</td>\n",
       "      <td>-1.691368</td>\n",
       "      <td>-0.669682</td>\n",
       "      <td>-0.656625</td>\n",
       "      <td>0.916022</td>\n",
       "      <td>1.704202</td>\n",
       "      <td>0.439733</td>\n",
       "      <td>-1.244488</td>\n",
       "      <td>1.066375</td>\n",
       "      <td>-1.435368</td>\n",
       "      <td>20</td>\n",
       "    </tr>\n",
       "    <tr>\n",
       "      <th>4</th>\n",
       "      <td>Tom Brady</td>\n",
       "      <td>Patriots</td>\n",
       "      <td>-0.546554</td>\n",
       "      <td>1.082989</td>\n",
       "      <td>1.136858</td>\n",
       "      <td>0.962293</td>\n",
       "      <td>1.077021</td>\n",
       "      <td>-0.008342</td>\n",
       "      <td>0.937787</td>\n",
       "      <td>0.849380</td>\n",
       "      <td>...</td>\n",
       "      <td>-0.877158</td>\n",
       "      <td>-1.822996</td>\n",
       "      <td>-0.403891</td>\n",
       "      <td>0.542791</td>\n",
       "      <td>0.971779</td>\n",
       "      <td>-0.240617</td>\n",
       "      <td>-0.878854</td>\n",
       "      <td>-0.410640</td>\n",
       "      <td>-0.768304</td>\n",
       "      <td>20</td>\n",
       "    </tr>\n",
       "    <tr>\n",
       "      <th>...</th>\n",
       "      <td>...</td>\n",
       "      <td>...</td>\n",
       "      <td>...</td>\n",
       "      <td>...</td>\n",
       "      <td>...</td>\n",
       "      <td>...</td>\n",
       "      <td>...</td>\n",
       "      <td>...</td>\n",
       "      <td>...</td>\n",
       "      <td>...</td>\n",
       "      <td>...</td>\n",
       "      <td>...</td>\n",
       "      <td>...</td>\n",
       "      <td>...</td>\n",
       "      <td>...</td>\n",
       "      <td>...</td>\n",
       "      <td>...</td>\n",
       "      <td>...</td>\n",
       "      <td>...</td>\n",
       "      <td>...</td>\n",
       "      <td>...</td>\n",
       "    </tr>\n",
       "    <tr>\n",
       "      <th>936</th>\n",
       "      <td>Tyrod Taylor</td>\n",
       "      <td>Giants</td>\n",
       "      <td>1.045728</td>\n",
       "      <td>-1.300639</td>\n",
       "      <td>-1.336272</td>\n",
       "      <td>-1.247707</td>\n",
       "      <td>-1.296354</td>\n",
       "      <td>1.353594</td>\n",
       "      <td>-1.239035</td>\n",
       "      <td>-1.027033</td>\n",
       "      <td>...</td>\n",
       "      <td>1.565473</td>\n",
       "      <td>1.406283</td>\n",
       "      <td>2.578369</td>\n",
       "      <td>0.231765</td>\n",
       "      <td>-0.209771</td>\n",
       "      <td>0.575803</td>\n",
       "      <td>0.553210</td>\n",
       "      <td>-1.667674</td>\n",
       "      <td>1.057507</td>\n",
       "      <td>40</td>\n",
       "    </tr>\n",
       "    <tr>\n",
       "      <th>937</th>\n",
       "      <td>Brian Hoyer</td>\n",
       "      <td>Patriots</td>\n",
       "      <td>1.955604</td>\n",
       "      <td>-1.667351</td>\n",
       "      <td>-1.181701</td>\n",
       "      <td>-1.254814</td>\n",
       "      <td>-1.305500</td>\n",
       "      <td>2.117382</td>\n",
       "      <td>-1.251869</td>\n",
       "      <td>-1.112325</td>\n",
       "      <td>...</td>\n",
       "      <td>-0.266500</td>\n",
       "      <td>0.252969</td>\n",
       "      <td>-0.050063</td>\n",
       "      <td>0.107355</td>\n",
       "      <td>-0.113036</td>\n",
       "      <td>-0.512757</td>\n",
       "      <td>-0.132353</td>\n",
       "      <td>-0.190659</td>\n",
       "      <td>0.173704</td>\n",
       "      <td>50</td>\n",
       "    </tr>\n",
       "    <tr>\n",
       "      <th>938</th>\n",
       "      <td>C.J. Beathard</td>\n",
       "      <td>Jaguars</td>\n",
       "      <td>0.135853</td>\n",
       "      <td>-1.117283</td>\n",
       "      <td>-1.336272</td>\n",
       "      <td>-1.240601</td>\n",
       "      <td>-1.282635</td>\n",
       "      <td>0.304535</td>\n",
       "      <td>-1.253091</td>\n",
       "      <td>-1.112325</td>\n",
       "      <td>...</td>\n",
       "      <td>0.547710</td>\n",
       "      <td>1.175620</td>\n",
       "      <td>0.758685</td>\n",
       "      <td>-0.763517</td>\n",
       "      <td>-1.266948</td>\n",
       "      <td>0.303663</td>\n",
       "      <td>0.842670</td>\n",
       "      <td>-0.127807</td>\n",
       "      <td>1.271608</td>\n",
       "      <td>50</td>\n",
       "    </tr>\n",
       "    <tr>\n",
       "      <th>939</th>\n",
       "      <td>Blaine Gabbert</td>\n",
       "      <td>Buccaneers</td>\n",
       "      <td>1.045728</td>\n",
       "      <td>-1.667351</td>\n",
       "      <td>-1.336272</td>\n",
       "      <td>-1.247707</td>\n",
       "      <td>-1.296354</td>\n",
       "      <td>1.353594</td>\n",
       "      <td>-1.256758</td>\n",
       "      <td>-1.027033</td>\n",
       "      <td>...</td>\n",
       "      <td>-1.691368</td>\n",
       "      <td>-1.822996</td>\n",
       "      <td>-1.010452</td>\n",
       "      <td>-0.203671</td>\n",
       "      <td>-0.444700</td>\n",
       "      <td>-0.104547</td>\n",
       "      <td>-0.254231</td>\n",
       "      <td>-0.724898</td>\n",
       "      <td>0.402101</td>\n",
       "      <td>50</td>\n",
       "    </tr>\n",
       "    <tr>\n",
       "      <th>940</th>\n",
       "      <td>Case Keenum</td>\n",
       "      <td>Bills</td>\n",
       "      <td>1.273197</td>\n",
       "      <td>-1.483995</td>\n",
       "      <td>-1.336272</td>\n",
       "      <td>-1.276132</td>\n",
       "      <td>-1.300927</td>\n",
       "      <td>-2.916258</td>\n",
       "      <td>-1.269591</td>\n",
       "      <td>-1.112325</td>\n",
       "      <td>...</td>\n",
       "      <td>0.344157</td>\n",
       "      <td>2.328934</td>\n",
       "      <td>1.466340</td>\n",
       "      <td>-0.639106</td>\n",
       "      <td>-1.025110</td>\n",
       "      <td>-0.104547</td>\n",
       "      <td>1.726284</td>\n",
       "      <td>0.814968</td>\n",
       "      <td>1.733251</td>\n",
       "      <td>50</td>\n",
       "    </tr>\n",
       "  </tbody>\n",
       "</table>\n",
       "<p>941 rows × 68 columns</p>\n",
       "</div>"
      ],
      "text/plain": [
       "             Player          Tm       Age         G        GS       Cmp  \\\n",
       "0    Peyton Manning       Colts -0.319085  1.082989  1.136858  1.402871   \n",
       "1       Trent Green      Chiefs  1.045728  1.082989  1.136858  1.054672   \n",
       "2       Marc Bulger        Rams -0.546554  0.899633  0.982287  1.097309   \n",
       "3      Brad Johnson  Buccaneers  1.500666  1.082989  1.136858  1.225219   \n",
       "4         Tom Brady    Patriots -0.546554  1.082989  1.136858  0.962293   \n",
       "..              ...         ...       ...       ...       ...       ...   \n",
       "936    Tyrod Taylor      Giants  1.045728 -1.300639 -1.336272 -1.247707   \n",
       "937     Brian Hoyer    Patriots  1.955604 -1.667351 -1.181701 -1.254814   \n",
       "938   C.J. Beathard     Jaguars  0.135853 -1.117283 -1.336272 -1.240601   \n",
       "939  Blaine Gabbert  Buccaneers  1.045728 -1.667351 -1.336272 -1.247707   \n",
       "940     Case Keenum       Bills  1.273197 -1.483995 -1.336272 -1.276132   \n",
       "\n",
       "          Att      Cmp%       Yds        TD  ...  team_rush_td  \\\n",
       "0    1.255367  0.617412  1.333184  1.361130  ...      0.547710   \n",
       "1    1.058729  0.258524  1.193848  0.934672  ...      3.804551   \n",
       "2    1.099886  0.267726  1.075290  0.764089  ...      1.158368   \n",
       "3    1.273659  0.166501  1.054512  1.105255  ...     -1.691368   \n",
       "4    1.077021 -0.008342  0.937787  0.849380  ...     -0.877158   \n",
       "..        ...       ...       ...       ...  ...           ...   \n",
       "936 -1.296354  1.353594 -1.239035 -1.027033  ...      1.565473   \n",
       "937 -1.305500  2.117382 -1.251869 -1.112325  ...     -0.266500   \n",
       "938 -1.282635  0.304535 -1.253091 -1.112325  ...      0.547710   \n",
       "939 -1.296354  1.353594 -1.256758 -1.027033  ...     -1.691368   \n",
       "940 -1.300927 -2.916258 -1.269591 -1.112325  ...      0.344157   \n",
       "\n",
       "     team_rush_yds_per_att  team_rush_fd  team_penalties  team_penalties_yds  \\\n",
       "0                -1.131008      0.253217       -0.639106           -1.349864   \n",
       "1                 0.252969      1.061966       -1.447773           -1.101117   \n",
       "2                -1.361670     -0.100610       -0.639106           -1.315316   \n",
       "3                -0.669682     -0.656625        0.916022            1.704202   \n",
       "4                -1.822996     -0.403891        0.542791            0.971779   \n",
       "..                     ...           ...             ...                 ...   \n",
       "936               1.406283      2.578369        0.231765           -0.209771   \n",
       "937               0.252969     -0.050063        0.107355           -0.113036   \n",
       "938               1.175620      0.758685       -0.763517           -1.266948   \n",
       "939              -1.822996     -1.010452       -0.203671           -0.444700   \n",
       "940               2.328934      1.466340       -0.639106           -1.025110   \n",
       "\n",
       "     team_pen_fd  team_score_pct  team_turnover_pct  team_exp_pts_tot  \\\n",
       "0       0.575803        1.924336          -0.756324          0.274543   \n",
       "1      -0.104547        0.705557          -1.290563          0.706318   \n",
       "2      -0.104547        1.132130           1.317781         -0.959684   \n",
       "3       0.439733       -1.244488           1.066375         -1.435368   \n",
       "4      -0.240617       -0.878854          -0.410640         -0.768304   \n",
       "..           ...             ...                ...               ...   \n",
       "936     0.575803        0.553210          -1.667674          1.057507   \n",
       "937    -0.512757       -0.132353          -0.190659          0.173704   \n",
       "938     0.303663        0.842670          -0.127807          1.271608   \n",
       "939    -0.104547       -0.254231          -0.724898          0.402101   \n",
       "940    -0.104547        1.726284           0.814968          1.733251   \n",
       "\n",
       "     Next_Year_PosRank  \n",
       "0                   10  \n",
       "1                   10  \n",
       "2                   10  \n",
       "3                   20  \n",
       "4                   20  \n",
       "..                 ...  \n",
       "936                 40  \n",
       "937                 50  \n",
       "938                 50  \n",
       "939                 50  \n",
       "940                 50  \n",
       "\n",
       "[941 rows x 68 columns]"
      ]
     },
     "execution_count": 78,
     "metadata": {},
     "output_type": "execute_result"
    }
   ],
   "source": [
    "passing"
   ]
  },
  {
   "cell_type": "code",
   "execution_count": 79,
   "id": "03ef206e",
   "metadata": {},
   "outputs": [
    {
     "name": "stdout",
     "output_type": "stream",
     "text": [
      "Final Shapes of DataFrames:\n",
      "\n",
      "Passing Observations: 941        Passing Parameters: 66 \n",
      "\n",
      "Rushing Observations: 1329        Rushing Parameters: 54 \n",
      "\n",
      "Receiving Observations: 1838      Receiving Parameters: 57 \n",
      "\n"
     ]
    }
   ],
   "source": [
    "print(\"Final Shapes of DataFrames:\\n\")\n",
    "print('Passing Observations:', passing.shape[0], '       Passing Parameters:', passing.shape[1] - 2, '\\n')\n",
    "print('Rushing Observations:', rushing.shape[0], '       Rushing Parameters:', rushing.shape[1] - 2, '\\n')\n",
    "print('Receiving Observations:', receiving.shape[0], '     Receiving Parameters:', receiving.shape[1] - 2, '\\n')"
   ]
  },
  {
   "cell_type": "code",
   "execution_count": 80,
   "id": "d7ae0111",
   "metadata": {},
   "outputs": [],
   "source": [
    "passing.to_csv('data/Cleaned_Passing.csv', sep=',', index=False, encoding='utf-8')\n",
    "rushing.to_csv('data/Cleaned_Rushing.csv', sep=',', index=False, encoding='utf-8')\n",
    "receiving.to_csv('data/Cleaned_Receiving.csv', sep=',', index=False, encoding='utf-8')"
   ]
  },
  {
   "cell_type": "code",
   "execution_count": null,
   "id": "0de08af8",
   "metadata": {},
   "outputs": [],
   "source": []
  }
 ],
 "metadata": {
  "kernelspec": {
   "display_name": "Python 3 (ipykernel)",
   "language": "python",
   "name": "python3"
  },
  "language_info": {
   "codemirror_mode": {
    "name": "ipython",
    "version": 3
   },
   "file_extension": ".py",
   "mimetype": "text/x-python",
   "name": "python",
   "nbconvert_exporter": "python",
   "pygments_lexer": "ipython3",
   "version": "3.9.5"
  }
 },
 "nbformat": 4,
 "nbformat_minor": 5
}
