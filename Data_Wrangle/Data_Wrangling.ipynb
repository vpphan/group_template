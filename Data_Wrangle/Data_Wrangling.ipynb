{
 "cells": [
  {
   "cell_type": "code",
   "execution_count": 2,
   "id": "09de23cd",
   "metadata": {},
   "outputs": [
    {
     "name": "stdout",
     "output_type": "stream",
     "text": [
      "Defaulting to user installation because normal site-packages is not writeable\n",
      "Requirement already satisfied: lxml in /home/ctams/.local/lib/python3.9/site-packages (5.1.0)\n",
      "\n",
      "\u001b[1m[\u001b[0m\u001b[34;49mnotice\u001b[0m\u001b[1;39;49m]\u001b[0m\u001b[39;49m A new release of pip is available: \u001b[0m\u001b[31;49m23.3.2\u001b[0m\u001b[39;49m -> \u001b[0m\u001b[32;49m24.0\u001b[0m\n",
      "\u001b[1m[\u001b[0m\u001b[34;49mnotice\u001b[0m\u001b[1;39;49m]\u001b[0m\u001b[39;49m To update, run: \u001b[0m\u001b[32;49mpip install --upgrade pip\u001b[0m\n",
      "Note: you may need to restart the kernel to use updated packages.\n"
     ]
    }
   ],
   "source": [
    "pip install lxml"
   ]
  },
  {
   "cell_type": "code",
   "execution_count": 197,
   "id": "0894d9ef",
   "metadata": {},
   "outputs": [],
   "source": [
    "import pandas as pd\n",
    "from scipy import signal\n",
    "import numpy as np\n",
    "import matplotlib as plt\n",
    "import time\n",
    "\n",
    "import matplotlib.pyplot as plt\n",
    "import warnings\n",
    "import re\n",
    "\n",
    "# Ignore all warnings\n",
    "warnings.filterwarnings(\"ignore\")"
   ]
  },
  {
   "cell_type": "code",
   "execution_count": 198,
   "id": "65564d80",
   "metadata": {},
   "outputs": [],
   "source": [
    "Combine = pd.read_csv(\"data/combine.csv\")\n",
    "Team_Stats = pd.read_csv(\"data/team_stats_2003_2023.csv\")"
   ]
  },
  {
   "cell_type": "code",
   "execution_count": 199,
   "id": "80eb411e",
   "metadata": {},
   "outputs": [],
   "source": [
    "Team_Stats = Team_Stats[Team_Stats[\"year\"] != 2023]"
   ]
  },
  {
   "cell_type": "markdown",
   "id": "f3c97457",
   "metadata": {},
   "source": [
    "## Webscrape all of the years for from pro-football reference that we are using"
   ]
  },
  {
   "cell_type": "code",
   "execution_count": 200,
   "id": "90d1d6ca",
   "metadata": {},
   "outputs": [
    {
     "data": {
      "text/plain": [
       "array([2004, 2005, 2006, 2007, 2008, 2009, 2010, 2011, 2012, 2013, 2014,\n",
       "       2015, 2016, 2017, 2018, 2019, 2020, 2021, 2022, 2023])"
      ]
     },
     "execution_count": 200,
     "metadata": {},
     "output_type": "execute_result"
    }
   ],
   "source": [
    "website_begining = 'https://www.pro-football-reference.com/years/'\n",
    "years = Team_Stats[\"year\"].unique() + 1\n",
    "years = years\n",
    "positions = ['passing', 'rushing', 'receiving']\n",
    "years"
   ]
  },
  {
   "cell_type": "code",
   "execution_count": 221,
   "id": "95170584",
   "metadata": {},
   "outputs": [
    {
     "name": "stdout",
     "output_type": "stream",
     "text": [
      "passing\n",
      "2004\n",
      "2005\n",
      "2006\n",
      "2007\n",
      "2008\n",
      "2009\n",
      "2010\n",
      "2011\n",
      "2012\n",
      "2013\n",
      "2014\n",
      "2015\n",
      "2016\n",
      "2017\n",
      "2018\n",
      "2019\n",
      "2020\n",
      "2021\n",
      "2022\n",
      "2023\n",
      "rushing\n",
      "2004\n",
      "2005\n",
      "2006\n",
      "2007\n",
      "2008\n",
      "2009\n",
      "2010\n",
      "2011\n",
      "2012\n",
      "2013\n",
      "2014\n",
      "2015\n",
      "2016\n",
      "2017\n",
      "2018\n",
      "2019\n",
      "2020\n",
      "2021\n",
      "2022\n",
      "2023\n",
      "receiving\n",
      "2004\n",
      "2005\n",
      "2006\n",
      "2007\n",
      "2008\n",
      "2009\n",
      "2010\n",
      "2011\n",
      "2012\n",
      "2013\n",
      "2014\n",
      "2015\n",
      "2016\n",
      "2017\n",
      "2018\n",
      "2019\n",
      "2020\n",
      "2021\n",
      "2022\n",
      "2023\n"
     ]
    }
   ],
   "source": [
    "for pos in positions:\n",
    "    print(pos)\n",
    "    for year in years:\n",
    "        link = website_begining + str(year) +'/'+ pos + '.htm'\n",
    "        \n",
    "        df = pd.read_html(link)\n",
    "        \n",
    "        csv_name = 'data/'+str(year) + '_' + pos + '.csv'\n",
    "        df[0].to_csv(csv_name, sep=',', index=False, encoding='utf-8')\n",
    "        time.sleep(4.2) #wait four seconds\n",
    "        print(year)"
   ]
  },
  {
   "cell_type": "markdown",
   "id": "7c3a72ce",
   "metadata": {},
   "source": [
    "## Concat the tables together to put them all into one data frame and take out unnessary data from player name"
   ]
  },
  {
   "cell_type": "code",
   "execution_count": 201,
   "id": "0d2f8197",
   "metadata": {},
   "outputs": [],
   "source": [
    "passing = pd.read_csv('data/2004_passing.csv')\n",
    "\n",
    "passing[\"Year\"] = 2004\n",
    "for year in years[1:]:\n",
    "    temp = pd.read_csv('data/' + str(year) + '_passing.csv')\n",
    "    temp[\"Year\"] = year\n",
    "    passing = pd.concat([passing, temp])\n",
    "    \n",
    "passing = passing[passing[\"Pos\"] == \"QB\"]\n"
   ]
  },
  {
   "cell_type": "code",
   "execution_count": 202,
   "id": "29260b82",
   "metadata": {},
   "outputs": [],
   "source": [
    "index = 0\n",
    "for name in passing[\"Player\"]:\n",
    "    front = name[:-2]\n",
    "    \n",
    "    back = re.sub(r'[^a-zA-Z]', '', name[-2:])\n",
    "    \n",
    "    passing[\"Player\"][index] = front + back\n",
    "    \n",
    "    index += 1"
   ]
  },
  {
   "cell_type": "code",
   "execution_count": null,
   "id": "c0823451",
   "metadata": {},
   "outputs": [],
   "source": []
  },
  {
   "cell_type": "code",
   "execution_count": 203,
   "id": "28fa766e",
   "metadata": {},
   "outputs": [],
   "source": [
    "rushing = pd.read_csv('data/2004_rushing.csv')\n",
    "\n",
    "rushing[\"Year\"] = 2004\n",
    "for year in years[1:]:\n",
    "    temp = pd.read_csv('data/' + str(year) + '_rushing.csv')\n",
    "    temp[\"Year\"] = year\n",
    "    rushing = pd.concat([rushing, temp])\n",
    "    \n",
    "    \n",
    "rushing.columns = rushing.iloc[0]\n",
    "rushing = rushing.drop(0)\n",
    "rushing.rename(columns={2004: 'Year'}, inplace=True)\n",
    "\n",
    "rushing = rushing[rushing[\"Pos\"] == \"RB\"]"
   ]
  },
  {
   "cell_type": "code",
   "execution_count": 204,
   "id": "b2cc6efe",
   "metadata": {},
   "outputs": [],
   "source": [
    "index = 0\n",
    "for name in rushing[\"Player\"]:\n",
    "    front = name[:-2]\n",
    "    \n",
    "    back = re.sub(r'[^a-zA-Z]', '', name[-2:])\n",
    "    \n",
    "    rushing[\"Player\"][index] = front + back\n",
    "    \n",
    "    index += 1\n"
   ]
  },
  {
   "cell_type": "code",
   "execution_count": null,
   "id": "d703e09f",
   "metadata": {},
   "outputs": [],
   "source": []
  },
  {
   "cell_type": "code",
   "execution_count": 205,
   "id": "e5bf08b9",
   "metadata": {},
   "outputs": [],
   "source": [
    "receiving = pd.read_csv('data/2004_receiving.csv')\n",
    "\n",
    "receiving[\"Year\"] = 2004\n",
    "for year in years[1:]:\n",
    "    temp = pd.read_csv('data/' + str(year) + '_receiving.csv')\n",
    "    temp[\"Year\"] = year\n",
    "    receiving = pd.concat([receiving, temp])\n",
    "    \n",
    "receiving = receiving[receiving[\"Pos\"] == \"WR\"]"
   ]
  },
  {
   "cell_type": "code",
   "execution_count": 206,
   "id": "71682a13",
   "metadata": {},
   "outputs": [],
   "source": [
    "index = 0\n",
    "for name in receiving[\"Player\"]:\n",
    "    front = name[:-2]\n",
    "    \n",
    "    back = re.sub(r'[^a-zA-Z]', '', name[-2:])\n",
    "    \n",
    "    receiving[\"Player\"][index] = front + back\n",
    "    \n",
    "    index += 1\n",
    "    "
   ]
  },
  {
   "cell_type": "markdown",
   "id": "88e6e1fd",
   "metadata": {},
   "source": [
    "## Putting Combine Data into Positional Dfs"
   ]
  },
  {
   "cell_type": "code",
   "execution_count": 207,
   "id": "6e5ddecb",
   "metadata": {},
   "outputs": [],
   "source": [
    "for col in Combine.columns:\n",
    "    passing[col] = 0\n",
    "    rushing[col] = 0\n",
    "    receiving[col] = 0"
   ]
  },
  {
   "cell_type": "code",
   "execution_count": 208,
   "id": "e47f11bb",
   "metadata": {},
   "outputs": [
    {
     "name": "stdout",
     "output_type": "stream",
     "text": [
      "77% of the players had Combine data\n"
     ]
    }
   ],
   "source": [
    "passing_names = passing[\"Player\"].unique()\n",
    "combine_names = Combine[\"nameFull\"].unique()\n",
    "\n",
    "has_data = 0\n",
    "for name in passing_names:\n",
    "    if name in combine_names:\n",
    "        combine_values = Combine[Combine[\"nameFull\"]==name].values.tolist()[0]\n",
    "        passing.loc[passing[\"Player\"] == name, Combine.columns] = combine_values\n",
    "        \n",
    "        has_data += 1\n",
    "    \n",
    "    \n",
    "print(str(int(100*has_data/len(passing_names))) + \"% of the players had Combine data\")\n",
    "passing = passing[passing[\"hsCountry\"] != 0]"
   ]
  },
  {
   "cell_type": "code",
   "execution_count": 209,
   "id": "27002227",
   "metadata": {},
   "outputs": [
    {
     "name": "stdout",
     "output_type": "stream",
     "text": [
      "68% of the players had Combine data\n"
     ]
    }
   ],
   "source": [
    "rushing_names = rushing[\"Player\"].unique()\n",
    "combine_names = Combine[\"nameFull\"].unique()\n",
    "\n",
    "has_data = 0\n",
    "for name in rushing_names:\n",
    "    if name in combine_names:\n",
    "        combine_values = Combine[Combine[\"nameFull\"]==name].values.tolist()[0]\n",
    "        rushing.loc[rushing[\"Player\"] == name, Combine.columns] = combine_values\n",
    "        \n",
    "        has_data += 1\n",
    "    \n",
    "    \n",
    "print(str(int(100*has_data/len(rushing_names))) + \"% of the players had Combine data\")\n",
    "rushing = rushing[rushing[\"hsCountry\"] != 0]"
   ]
  },
  {
   "cell_type": "code",
   "execution_count": 210,
   "id": "640494c3",
   "metadata": {},
   "outputs": [
    {
     "name": "stdout",
     "output_type": "stream",
     "text": [
      "58% of the players had Combine data\n"
     ]
    }
   ],
   "source": [
    "receiving_names = receiving[\"Player\"].unique()\n",
    "combine_names = Combine[\"nameFull\"].unique()\n",
    "\n",
    "has_data = 0\n",
    "for name in receiving_names:\n",
    "    if name in combine_names:\n",
    "        combine_values = Combine[Combine[\"nameFull\"]==name].values.tolist()[0]\n",
    "        receiving.loc[receiving[\"Player\"] == name, Combine.columns] = combine_values\n",
    "        \n",
    "        has_data += 1\n",
    "    \n",
    "    \n",
    "print(str(int(100*has_data/len(receiving_names))) + \"% of the players had Combine data\")\n",
    "receiving = receiving[receiving[\"hsCountry\"] != 0]"
   ]
  },
  {
   "cell_type": "code",
   "execution_count": 211,
   "id": "3556083e",
   "metadata": {},
   "outputs": [],
   "source": [
    "passing.drop(columns=['Rk'], inplace=True)\n",
    "rushing.drop(columns=['Rk'], inplace=True)\n",
    "receiving.drop(columns=['Rk'], inplace=True)"
   ]
  },
  {
   "cell_type": "markdown",
   "id": "a7259fdb",
   "metadata": {},
   "source": [
    "## Putting the team data into Positional Dfs"
   ]
  },
  {
   "cell_type": "code",
   "execution_count": 212,
   "id": "8ea7d25e",
   "metadata": {},
   "outputs": [],
   "source": [
    "index = 0\n",
    "for team in Team_Stats[\"team\"]:\n",
    "    team_split = team.split(\" \")\n",
    "    simple = team_split[-1]\n",
    "    \n",
    "    Team_Stats[\"team\"][index] = simple\n",
    "    index += 1"
   ]
  },
  {
   "cell_type": "code",
   "execution_count": null,
   "id": "fa2ea63f",
   "metadata": {},
   "outputs": [],
   "source": []
  },
  {
   "cell_type": "code",
   "execution_count": 213,
   "id": "fd0d62ae",
   "metadata": {},
   "outputs": [],
   "source": [
    "Team_Stats[\"team\"] = Team_Stats[\"team\"].replace(\"Redskins\", \"Commanders\")\n",
    "Team_Stats[\"team\"] = Team_Stats[\"team\"].replace(\"Team\", \"Commanders\")"
   ]
  },
  {
   "cell_type": "code",
   "execution_count": 214,
   "id": "52787848",
   "metadata": {},
   "outputs": [],
   "source": [
    "df_list = [passing, rushing, receiving]"
   ]
  },
  {
   "cell_type": "code",
   "execution_count": 215,
   "id": "afc362ec",
   "metadata": {},
   "outputs": [],
   "source": [
    "for df in df_list:\n",
    "    df[\"Tm\"] = df[\"Tm\"].replace(\"MIN\", \"Vikings\")\n",
    "    df[\"Tm\"] = df[\"Tm\"].replace(\"KAN\", \"Chiefs\")\n",
    "    df[\"Tm\"] = df[\"Tm\"].replace(\"IND\", \"Colts\")\n",
    "    df[\"Tm\"] = df[\"Tm\"].replace(\"DEN\", \"Broncos\")\n",
    "    df[\"Tm\"] = df[\"Tm\"].replace(\"GNB\", \"Packers\")\n",
    "    df[\"Tm\"] = df[\"Tm\"].replace(\"STL\", \"Rams\")#\n",
    "    df[\"Tm\"] = df[\"Tm\"].replace(\"PHI\", \"Eagles\")\n",
    "    df[\"Tm\"] = df[\"Tm\"].replace(\"NOR\", \"Steelers\")#\n",
    "    df[\"Tm\"] = df[\"Tm\"].replace(\"NWE\", \"Patriots\")\n",
    "    df[\"Tm\"] = df[\"Tm\"].replace(\"DAL\", \"Cowboys\")\n",
    "\n",
    "    df[\"Tm\"] = df[\"Tm\"].replace(\"HOU\", \"Texans\")\n",
    "    df[\"Tm\"] = df[\"Tm\"].replace(\"OAK\", \"Raiders\")\n",
    "    df[\"Tm\"] = df[\"Tm\"].replace(\"SDG\", \"Chargers\")\n",
    "    df[\"Tm\"] = df[\"Tm\"].replace(\"DET\", \"Lions\")\n",
    "    df[\"Tm\"] = df[\"Tm\"].replace(\"JAX\", \"Jaguars\")\n",
    "    df[\"Tm\"] = df[\"Tm\"].replace(\"BUF\", \"Bills\")\n",
    "    df[\"Tm\"] = df[\"Tm\"].replace(\"CIN\", \"Bengals\")\n",
    "    df[\"Tm\"] = df[\"Tm\"].replace(\"NYJ\", \"Jets\")\n",
    "    df[\"Tm\"] = df[\"Tm\"].replace(\"PIT\", \"Steelers\")\n",
    "    df[\"Tm\"] = df[\"Tm\"].replace(\"BAL\", \"Ravens\")\n",
    "\n",
    "    df[\"Tm\"] = df[\"Tm\"].replace(\"ARI\", \"Cardinals\")\n",
    "    df[\"Tm\"] = df[\"Tm\"].replace(\"ATL\", \"Falcons\")\n",
    "    df[\"Tm\"] = df[\"Tm\"].replace(\"IND\", \"Colts\")\n",
    "    df[\"Tm\"] = df[\"Tm\"].replace(\"SFO\", \"49ers\")\n",
    "    df[\"Tm\"] = df[\"Tm\"].replace(\"CLE\", \"Browns\")\n",
    "    df[\"Tm\"] = df[\"Tm\"].replace(\"TEN\", \"Titans\")\n",
    "    df[\"Tm\"] = df[\"Tm\"].replace(\"WAS\", \"Commanders\")\n",
    "    df[\"Tm\"] = df[\"Tm\"].replace(\"NYG\", \"Giants\")\n",
    "    df[\"Tm\"] = df[\"Tm\"].replace(\"CHI\", \"Bears\")\n",
    "    df[\"Tm\"] = df[\"Tm\"].replace(\"TAM\", \"Buccaneers\")\n",
    "\n",
    "    df[\"Tm\"] = df[\"Tm\"].replace(\"MIA\", \"Dolphins\")\n",
    "    df[\"Tm\"] = df[\"Tm\"].replace(\"CAR\", \"Panthers\")\n",
    "    df[\"Tm\"] = df[\"Tm\"].replace(\"SEA\", \"Seahawks\")\n",
    "    df[\"Tm\"] = df[\"Tm\"].replace(\"2TM\", \"Take_out\")\n",
    "    df[\"Tm\"] = df[\"Tm\"].replace(\"LAR\", \"Rams\")\n",
    "    df[\"Tm\"] = df[\"Tm\"].replace(\"LAC\", \"Chargers\")\n",
    "    df[\"Tm\"] = df[\"Tm\"].replace(\"LVR\", \"Raiders\")\n",
    "    \n",
    "    df[\"Tm\"] = df[\"Tm\"].replace(\"Team\", \"Commanders\")"
   ]
  },
  {
   "cell_type": "code",
   "execution_count": 216,
   "id": "789a3af7",
   "metadata": {},
   "outputs": [],
   "source": [
    "passing = passing[(passing[\"Tm\"] != \"Take_out\") & (passing[\"Tm\"] != \"3TM\")]\n",
    "rushing = rushing[(rushing[\"Tm\"] != \"Take_out\") & (rushing[\"Tm\"] != \"3TM\" )]\n",
    "receiving = receiving[(receiving[\"Tm\"] != \"Take_out\") & (receiving[\"Tm\"] != \"3TM\")]"
   ]
  },
  {
   "cell_type": "code",
   "execution_count": null,
   "id": "f99c54b2",
   "metadata": {},
   "outputs": [],
   "source": []
  },
  {
   "cell_type": "code",
   "execution_count": 217,
   "id": "4b839982",
   "metadata": {},
   "outputs": [],
   "source": [
    "pos_team_cols = Team_Stats.columns[2:]\n",
    "for col in pos_team_cols:\n",
    "    passing[\"team_\" + col] = 0\n",
    "    rushing[\"team_\" + col] = 0\n",
    "    receiving[\"team_\" + col] = 0\n",
    "    \n",
    "\n",
    "passing.reset_index(drop=True, inplace=True)\n",
    "rushing.reset_index(drop=True, inplace=True)\n",
    "receiving.reset_index(drop=True, inplace=True)"
   ]
  },
  {
   "cell_type": "code",
   "execution_count": 218,
   "id": "6cfe3e23",
   "metadata": {},
   "outputs": [],
   "source": [
    "df_list = [passing, rushing, receiving]\n",
    "team_years = Team_Stats[\"year\"].unique()\n",
    "for df in df_list:\n",
    "    for year in team_years:\n",
    "        for team in Team_Stats[\"team\"].unique():\n",
    "            team_values = Team_Stats[(Team_Stats[\"team\"]==team) & (Team_Stats[\"year\"]==year)].values.tolist()[0]\n",
    "            df.loc[(df[\"Tm\"] == team) & (df[\"Year\"] == year + 1), \"team_\" + Team_Stats.columns[2:]] = team_values[2:]"
   ]
  },
  {
   "cell_type": "code",
   "execution_count": null,
   "id": "d5a5a1ff",
   "metadata": {},
   "outputs": [],
   "source": []
  },
  {
   "cell_type": "markdown",
   "id": "9d05cd2b",
   "metadata": {},
   "source": [
    "## Taking out unnessary Columns"
   ]
  },
  {
   "cell_type": "code",
   "execution_count": 258,
   "id": "8e56638d",
   "metadata": {},
   "outputs": [
    {
     "name": "stdout",
     "output_type": "stream",
     "text": [
      "0.0 % was questionable\n",
      "[]\n",
      "0.0 % was questionable\n",
      "[]\n",
      "0.0 % was questionable\n",
      "[]\n"
     ]
    }
   ],
   "source": [
    "df_list = [passing, rushing, receiving]\n",
    "questionable_cols = []\n",
    "for df in df_list:\n",
    "    question = 0\n",
    "    question_temp = []\n",
    "    for col in df.columns:\n",
    "        if type(df[col][0]) != float or type(df[col][0]) != int:\n",
    "            if col != 'Player' and col != 'Tm':\n",
    "                try:\n",
    "                    df[col] = df[col].astype(float)\n",
    "                except:\n",
    "                    question_temp.append(col)\n",
    "                    question += 1\n",
    "\n",
    "    print(100*question/len(df.columns), \"% was questionable\")\n",
    "    print(question_temp)\n",
    "    questionable_cols.append(question_temp)"
   ]
  },
  {
   "cell_type": "code",
   "execution_count": 257,
   "id": "7efcb91d",
   "metadata": {},
   "outputs": [],
   "source": [
    "passing = passing.drop(columns = [questionable_cols[0]][0])\n",
    "rushing = rushing.drop(columns = [questionable_cols[1]][0])\n",
    "receiving = receiving.drop(columns = [questionable_cols[2]][0])"
   ]
  },
  {
   "cell_type": "code",
   "execution_count": null,
   "id": "5defc908",
   "metadata": {},
   "outputs": [],
   "source": []
  },
  {
   "cell_type": "markdown",
   "id": "1d8e6a3c",
   "metadata": {},
   "source": [
    "## Deal with Nan values"
   ]
  },
  {
   "cell_type": "code",
   "execution_count": 277,
   "id": "bc9403a1",
   "metadata": {},
   "outputs": [
    {
     "name": "stdout",
     "output_type": "stream",
     "text": [
      "0.0\n",
      "0.0\n",
      "0.0\n"
     ]
    }
   ],
   "source": [
    "df_list = [passing, rushing, receiving]\n",
    "nan_columns = []\n",
    "for df in df_list:\n",
    "    temp_nan = []\n",
    "    total = 0\n",
    "    for col in df.columns:\n",
    "        column_nan_percentage = df[col].isna().mean()\n",
    "        if column_nan_percentage >= 0.05:\n",
    "            print(col, column_nan_percentage*100)\n",
    "            total += 1\n",
    "            temp_nan.append(col)\n",
    "    nan_columns.append(temp_nan)\n",
    "    print(total/len(df.columns))"
   ]
  },
  {
   "cell_type": "code",
   "execution_count": 276,
   "id": "efc7a261",
   "metadata": {},
   "outputs": [],
   "source": [
    "passing = passing.drop(columns = [nan_columns[0]][0])\n",
    "rushing = rushing.drop(columns = [nan_columns[1]][0])\n",
    "receiving = receiving.drop(columns = [nan_columns[2]][0])"
   ]
  },
  {
   "cell_type": "markdown",
   "id": "7dc79ebf",
   "metadata": {},
   "source": [
    "## Replace rest of Nan with column average"
   ]
  },
  {
   "cell_type": "code",
   "execution_count": 281,
   "id": "ff588b32",
   "metadata": {},
   "outputs": [],
   "source": [
    "df_list = [passing, rushing, receiving]\n",
    "for df in df_list:\n",
    "    total = 0\n",
    "    for col in df.columns:\n",
    "        column_nan_percentage = df[col].isna().mean()\n",
    "        if column_nan_percentage > 0:\n",
    "            \n",
    "            column_average = df[col].mean()\n",
    "\n",
    "\n",
    "            df[col] = df[col].fillna(column_average)\n",
    "            print(col)"
   ]
  },
  {
   "cell_type": "code",
   "execution_count": null,
   "id": "3de6817b",
   "metadata": {},
   "outputs": [],
   "source": []
  },
  {
   "cell_type": "code",
   "execution_count": 291,
   "id": "03ef206e",
   "metadata": {},
   "outputs": [
    {
     "name": "stdout",
     "output_type": "stream",
     "text": [
      "Final Shapes of DataFrames:\n",
      "\n",
      "Passing Observations: 1120        Passing Parameters: 66 \n",
      "\n",
      "Rushing Observations: 1875        Rushing Parameters: 53 \n",
      "\n",
      "Receiving Observations: 2501      Receiving Parameters: 57 \n",
      "\n"
     ]
    }
   ],
   "source": [
    "print(\"Final Shapes of DataFrames:\\n\")\n",
    "print('Passing Observations:', passing.shape[0], '       Passing Parameters:', passing.shape[1] - 2, '\\n')\n",
    "print('Rushing Observations:', rushing.shape[0], '       Rushing Parameters:', rushing.shape[1] - 2, '\\n')\n",
    "print('Receiving Observations:', receiving.shape[0], '     Receiving Parameters:', receiving.shape[1] - 2, '\\n')"
   ]
  },
  {
   "cell_type": "code",
   "execution_count": 292,
   "id": "d7ae0111",
   "metadata": {},
   "outputs": [],
   "source": [
    "passing.to_csv('data/Cleaned_Passing.csv', sep=',', index=False, encoding='utf-8')\n",
    "rushing.to_csv('data/Cleaned_Rushing.csv', sep=',', index=False, encoding='utf-8')\n",
    "receiving.to_csv('data/Cleaned_Receiving.csv', sep=',', index=False, encoding='utf-8')"
   ]
  },
  {
   "cell_type": "code",
   "execution_count": null,
   "id": "0de08af8",
   "metadata": {},
   "outputs": [],
   "source": []
  }
 ],
 "metadata": {
  "kernelspec": {
   "display_name": "Python 3 (ipykernel)",
   "language": "python",
   "name": "python3"
  },
  "language_info": {
   "codemirror_mode": {
    "name": "ipython",
    "version": 3
   },
   "file_extension": ".py",
   "mimetype": "text/x-python",
   "name": "python",
   "nbconvert_exporter": "python",
   "pygments_lexer": "ipython3",
   "version": "3.9.5"
  }
 },
 "nbformat": 4,
 "nbformat_minor": 5
}
