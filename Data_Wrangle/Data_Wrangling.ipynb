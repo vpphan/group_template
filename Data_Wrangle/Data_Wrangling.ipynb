{
 "cells": [
  {
   "cell_type": "code",
   "execution_count": 2,
   "id": "09de23cd",
   "metadata": {},
   "outputs": [
    {
     "name": "stdout",
     "output_type": "stream",
     "text": [
      "Defaulting to user installation because normal site-packages is not writeable\n",
      "Requirement already satisfied: lxml in /home/ctams/.local/lib/python3.9/site-packages (5.1.0)\n",
      "\n",
      "\u001b[1m[\u001b[0m\u001b[34;49mnotice\u001b[0m\u001b[1;39;49m]\u001b[0m\u001b[39;49m A new release of pip is available: \u001b[0m\u001b[31;49m23.3.2\u001b[0m\u001b[39;49m -> \u001b[0m\u001b[32;49m24.0\u001b[0m\n",
      "\u001b[1m[\u001b[0m\u001b[34;49mnotice\u001b[0m\u001b[1;39;49m]\u001b[0m\u001b[39;49m To update, run: \u001b[0m\u001b[32;49mpip install --upgrade pip\u001b[0m\n",
      "Note: you may need to restart the kernel to use updated packages.\n"
     ]
    }
   ],
   "source": [
    "pip install lxml"
   ]
  },
  {
   "cell_type": "code",
   "execution_count": 48,
   "id": "0894d9ef",
   "metadata": {},
   "outputs": [],
   "source": [
    "import pandas as pd\n",
    "from scipy import signal\n",
    "import numpy as np\n",
    "import matplotlib as plt\n",
    "import time\n",
    "\n",
    "import matplotlib.pyplot as plt\n",
    "import warnings\n",
    "import re\n",
    "\n",
    "# Ignore all warnings\n",
    "warnings.filterwarnings(\"ignore\")"
   ]
  },
  {
   "cell_type": "code",
   "execution_count": 49,
   "id": "65564d80",
   "metadata": {},
   "outputs": [],
   "source": [
    "Combine = pd.read_csv(\"data/combine.csv\")\n",
    "Team_Stats = pd.read_csv(\"data/team_stats_2003_2023.csv\")"
   ]
  },
  {
   "cell_type": "code",
   "execution_count": 50,
   "id": "80eb411e",
   "metadata": {},
   "outputs": [],
   "source": [
    "Team_Stats = Team_Stats[Team_Stats[\"year\"] != 2023]"
   ]
  },
  {
   "cell_type": "markdown",
   "id": "f3c97457",
   "metadata": {},
   "source": [
    "## Webscrape all of the years for from pro-football reference that we are using"
   ]
  },
  {
   "cell_type": "code",
   "execution_count": 51,
   "id": "90d1d6ca",
   "metadata": {},
   "outputs": [
    {
     "data": {
      "text/plain": [
       "array([2003, 2004, 2005, 2006, 2007, 2008, 2009, 2010, 2011, 2012, 2013,\n",
       "       2014, 2015, 2016, 2017, 2018, 2019, 2020, 2021, 2022])"
      ]
     },
     "execution_count": 51,
     "metadata": {},
     "output_type": "execute_result"
    }
   ],
   "source": [
    "website_begining = 'https://www.pro-football-reference.com/years/'\n",
    "years = Team_Stats[\"year\"].unique()\n",
    "years = years\n",
    "positions = ['passing', 'rushing', 'receiving']\n",
    "years"
   ]
  },
  {
   "cell_type": "code",
   "execution_count": 8,
   "id": "95170584",
   "metadata": {},
   "outputs": [
    {
     "name": "stdout",
     "output_type": "stream",
     "text": [
      "passing\n",
      "2003\n",
      "2004\n",
      "2005\n",
      "2006\n",
      "2007\n",
      "2008\n",
      "2009\n",
      "2010\n",
      "2011\n",
      "2012\n",
      "2013\n",
      "2014\n",
      "2015\n",
      "2016\n",
      "2017\n",
      "2018\n",
      "2019\n",
      "2020\n",
      "2021\n",
      "2022\n",
      "rushing\n",
      "2003\n",
      "2004\n",
      "2005\n",
      "2006\n",
      "2007\n",
      "2008\n",
      "2009\n",
      "2010\n",
      "2011\n",
      "2012\n",
      "2013\n",
      "2014\n",
      "2015\n",
      "2016\n",
      "2017\n",
      "2018\n",
      "2019\n",
      "2020\n",
      "2021\n",
      "2022\n",
      "receiving\n",
      "2003\n",
      "2004\n",
      "2005\n",
      "2006\n",
      "2007\n",
      "2008\n",
      "2009\n",
      "2010\n",
      "2011\n",
      "2012\n",
      "2013\n",
      "2014\n",
      "2015\n",
      "2016\n",
      "2017\n",
      "2018\n",
      "2019\n",
      "2020\n",
      "2021\n",
      "2022\n"
     ]
    }
   ],
   "source": [
    "for pos in positions:\n",
    "    print(pos)\n",
    "    for year in years:\n",
    "        link = website_begining + str(year) +'/'+ pos + '.htm'\n",
    "        \n",
    "        df = pd.read_html(link)\n",
    "        \n",
    "        csv_name = 'data/'+str(year) + '_' + pos + '.csv'\n",
    "        df[0].to_csv(csv_name, sep=',', index=False, encoding='utf-8')\n",
    "        time.sleep(4.2) #wait four seconds\n",
    "        print(year)"
   ]
  },
  {
   "cell_type": "markdown",
   "id": "7c3a72ce",
   "metadata": {},
   "source": [
    "## Concat the tables together to put them all into one data frame and take out unnessary data from player name"
   ]
  },
  {
   "cell_type": "code",
   "execution_count": 52,
   "id": "0d2f8197",
   "metadata": {},
   "outputs": [],
   "source": [
    "passing = pd.read_csv('data/2003_passing.csv')\n",
    "\n",
    "passing[\"Year\"] = years[0]\n",
    "for year in years[1:]:\n",
    "    temp = pd.read_csv('data/' + str(year) + '_passing.csv')\n",
    "    temp[\"Year\"] = year\n",
    "    passing = pd.concat([passing, temp])\n",
    "    \n",
    "passing = passing[passing[\"Pos\"] == \"QB\"]\n",
    "passing.reset_index(drop=True, inplace=True)"
   ]
  },
  {
   "cell_type": "code",
   "execution_count": 53,
   "id": "29260b82",
   "metadata": {},
   "outputs": [],
   "source": [
    "index = 0\n",
    "for name in passing[\"Player\"]:\n",
    "    front = name[:-2]\n",
    "    \n",
    "    back = re.sub(r'[^a-zA-Z]', '', name[-2:])\n",
    "    \n",
    "    passing[\"Player\"][index] = front + back\n",
    "    \n",
    "    index += 1"
   ]
  },
  {
   "cell_type": "code",
   "execution_count": null,
   "id": "c0823451",
   "metadata": {},
   "outputs": [],
   "source": []
  },
  {
   "cell_type": "code",
   "execution_count": 54,
   "id": "28fa766e",
   "metadata": {},
   "outputs": [],
   "source": [
    "rushing = pd.read_csv('data/2003_rushing.csv')\n",
    "\n",
    "rushing[\"Year\"] = years[0]\n",
    "\n",
    "for year in years[1:]:\n",
    "    temp = pd.read_csv('data/' + str(year) + '_rushing.csv')\n",
    "    temp[\"Year\"] = year\n",
    "    rushing = pd.concat([rushing, temp])\n",
    "    \n",
    "    \n",
    "rushing.columns = rushing.iloc[0]\n",
    "rushing = rushing.drop(0)\n",
    "rushing.rename(columns={2003: 'Year'}, inplace=True)\n",
    "\n",
    "rushing = rushing[rushing[\"Pos\"] == \"RB\"]\n",
    "rushing.reset_index(drop=True, inplace=True)"
   ]
  },
  {
   "cell_type": "code",
   "execution_count": 55,
   "id": "b2cc6efe",
   "metadata": {},
   "outputs": [],
   "source": [
    "index = 0\n",
    "for name in rushing[\"Player\"]:\n",
    "    front = name[:-2]\n",
    "    \n",
    "    back = re.sub(r'[^a-zA-Z]', '', name[-2:])\n",
    "    \n",
    "    rushing[\"Player\"][index] = front + back\n",
    "    \n",
    "    index += 1\n"
   ]
  },
  {
   "cell_type": "code",
   "execution_count": null,
   "id": "d703e09f",
   "metadata": {},
   "outputs": [],
   "source": []
  },
  {
   "cell_type": "code",
   "execution_count": 56,
   "id": "e5bf08b9",
   "metadata": {},
   "outputs": [],
   "source": [
    "receiving = pd.read_csv('data/2003_receiving.csv')\n",
    "\n",
    "receiving[\"Year\"] = years[0]\n",
    "for year in years[1:]:\n",
    "    temp = pd.read_csv('data/' + str(year) + '_receiving.csv')\n",
    "    temp[\"Year\"] = year\n",
    "    receiving = pd.concat([receiving, temp])\n",
    "    \n",
    "receiving = receiving[receiving[\"Pos\"] == \"WR\"]\n",
    "receiving.reset_index(drop=True, inplace=True)"
   ]
  },
  {
   "cell_type": "code",
   "execution_count": 57,
   "id": "71682a13",
   "metadata": {},
   "outputs": [],
   "source": [
    "index = 0\n",
    "for name in receiving[\"Player\"]:\n",
    "    front = name[:-2]\n",
    "    \n",
    "    back = re.sub(r'[^a-zA-Z]', '', name[-2:])\n",
    "    \n",
    "    receiving[\"Player\"][index] = front + back\n",
    "    \n",
    "    index += 1\n",
    "    "
   ]
  },
  {
   "cell_type": "markdown",
   "id": "88e6e1fd",
   "metadata": {},
   "source": [
    "## Putting Combine Data into Positional Dfs"
   ]
  },
  {
   "cell_type": "code",
   "execution_count": 58,
   "id": "6e5ddecb",
   "metadata": {},
   "outputs": [],
   "source": [
    "for col in Combine.columns:\n",
    "    passing[col] = 0\n",
    "    rushing[col] = 0\n",
    "    receiving[col] = 0"
   ]
  },
  {
   "cell_type": "code",
   "execution_count": 59,
   "id": "e47f11bb",
   "metadata": {},
   "outputs": [
    {
     "name": "stdout",
     "output_type": "stream",
     "text": [
      "70% of the players had Combine data\n"
     ]
    }
   ],
   "source": [
    "passing_names = passing[\"Player\"].unique()\n",
    "combine_names = Combine[\"nameFull\"].unique()\n",
    "\n",
    "has_data = 0\n",
    "for name in passing_names:\n",
    "    if name in combine_names:\n",
    "        combine_values = Combine[Combine[\"nameFull\"]==name].values.tolist()[0]\n",
    "        passing.loc[passing[\"Player\"] == name, Combine.columns] = combine_values\n",
    "        \n",
    "        has_data += 1\n",
    "    \n",
    "    \n",
    "print(str(int(100*has_data/len(passing_names))) + \"% of the players had Combine data\")\n",
    "passing = passing[passing[\"hsCountry\"] != 0]"
   ]
  },
  {
   "cell_type": "code",
   "execution_count": 60,
   "id": "27002227",
   "metadata": {},
   "outputs": [
    {
     "name": "stdout",
     "output_type": "stream",
     "text": [
      "57% of the players had Combine data\n"
     ]
    }
   ],
   "source": [
    "rushing_names = rushing[\"Player\"].unique()\n",
    "combine_names = Combine[\"nameFull\"].unique()\n",
    "\n",
    "has_data = 0\n",
    "for name in rushing_names:\n",
    "    if name in combine_names:\n",
    "        combine_values = Combine[Combine[\"nameFull\"]==name].values.tolist()[0]\n",
    "        rushing.loc[rushing[\"Player\"] == name, Combine.columns] = combine_values\n",
    "        \n",
    "        has_data += 1\n",
    "    \n",
    "    \n",
    "print(str(int(100*has_data/len(rushing_names))) + \"% of the players had Combine data\")\n",
    "rushing = rushing[rushing[\"hsCountry\"] != 0]"
   ]
  },
  {
   "cell_type": "code",
   "execution_count": 61,
   "id": "640494c3",
   "metadata": {},
   "outputs": [
    {
     "name": "stdout",
     "output_type": "stream",
     "text": [
      "49% of the players had Combine data\n"
     ]
    }
   ],
   "source": [
    "receiving_names = receiving[\"Player\"].unique()\n",
    "combine_names = Combine[\"nameFull\"].unique()\n",
    "\n",
    "has_data = 0\n",
    "for name in receiving_names:\n",
    "    if name in combine_names:\n",
    "        combine_values = Combine[Combine[\"nameFull\"]==name].values.tolist()[0]\n",
    "        receiving.loc[receiving[\"Player\"] == name, Combine.columns] = combine_values\n",
    "        \n",
    "        has_data += 1\n",
    "    \n",
    "    \n",
    "print(str(int(100*has_data/len(receiving_names))) + \"% of the players had Combine data\")\n",
    "receiving = receiving[receiving[\"hsCountry\"] != 0]"
   ]
  },
  {
   "cell_type": "code",
   "execution_count": 62,
   "id": "3556083e",
   "metadata": {},
   "outputs": [],
   "source": [
    "passing.drop(columns=['Rk'], inplace=True)\n",
    "rushing.drop(columns=['Rk'], inplace=True)\n",
    "receiving.drop(columns=['Rk'], inplace=True)"
   ]
  },
  {
   "cell_type": "markdown",
   "id": "a7259fdb",
   "metadata": {},
   "source": [
    "## Putting the team data into Positional Dfs"
   ]
  },
  {
   "cell_type": "code",
   "execution_count": 63,
   "id": "8ea7d25e",
   "metadata": {},
   "outputs": [],
   "source": [
    "index = 0\n",
    "for team in Team_Stats[\"team\"]:\n",
    "    team_split = team.split(\" \")\n",
    "    simple = team_split[-1]\n",
    "    \n",
    "    Team_Stats[\"team\"][index] = simple\n",
    "    index += 1"
   ]
  },
  {
   "cell_type": "code",
   "execution_count": null,
   "id": "fa2ea63f",
   "metadata": {},
   "outputs": [],
   "source": []
  },
  {
   "cell_type": "code",
   "execution_count": 64,
   "id": "fd0d62ae",
   "metadata": {},
   "outputs": [],
   "source": [
    "Team_Stats[\"team\"] = Team_Stats[\"team\"].replace(\"Redskins\", \"Commanders\")\n",
    "Team_Stats[\"team\"] = Team_Stats[\"team\"].replace(\"Team\", \"Commanders\")"
   ]
  },
  {
   "cell_type": "code",
   "execution_count": 65,
   "id": "52787848",
   "metadata": {},
   "outputs": [],
   "source": [
    "df_list = [passing, rushing, receiving]"
   ]
  },
  {
   "cell_type": "code",
   "execution_count": 66,
   "id": "afc362ec",
   "metadata": {},
   "outputs": [],
   "source": [
    "for df in df_list:\n",
    "    df[\"Tm\"] = df[\"Tm\"].replace(\"MIN\", \"Vikings\")\n",
    "    df[\"Tm\"] = df[\"Tm\"].replace(\"KAN\", \"Chiefs\")\n",
    "    df[\"Tm\"] = df[\"Tm\"].replace(\"IND\", \"Colts\")\n",
    "    df[\"Tm\"] = df[\"Tm\"].replace(\"DEN\", \"Broncos\")\n",
    "    df[\"Tm\"] = df[\"Tm\"].replace(\"GNB\", \"Packers\")\n",
    "    df[\"Tm\"] = df[\"Tm\"].replace(\"STL\", \"Rams\")#\n",
    "    df[\"Tm\"] = df[\"Tm\"].replace(\"PHI\", \"Eagles\")\n",
    "    df[\"Tm\"] = df[\"Tm\"].replace(\"NOR\", \"Steelers\")#\n",
    "    df[\"Tm\"] = df[\"Tm\"].replace(\"NWE\", \"Patriots\")\n",
    "    df[\"Tm\"] = df[\"Tm\"].replace(\"DAL\", \"Cowboys\")\n",
    "\n",
    "    df[\"Tm\"] = df[\"Tm\"].replace(\"HOU\", \"Texans\")\n",
    "    df[\"Tm\"] = df[\"Tm\"].replace(\"OAK\", \"Raiders\")\n",
    "    df[\"Tm\"] = df[\"Tm\"].replace(\"SDG\", \"Chargers\")\n",
    "    df[\"Tm\"] = df[\"Tm\"].replace(\"DET\", \"Lions\")\n",
    "    df[\"Tm\"] = df[\"Tm\"].replace(\"JAX\", \"Jaguars\")\n",
    "    df[\"Tm\"] = df[\"Tm\"].replace(\"BUF\", \"Bills\")\n",
    "    df[\"Tm\"] = df[\"Tm\"].replace(\"CIN\", \"Bengals\")\n",
    "    df[\"Tm\"] = df[\"Tm\"].replace(\"NYJ\", \"Jets\")\n",
    "    df[\"Tm\"] = df[\"Tm\"].replace(\"PIT\", \"Steelers\")\n",
    "    df[\"Tm\"] = df[\"Tm\"].replace(\"BAL\", \"Ravens\")\n",
    "\n",
    "    df[\"Tm\"] = df[\"Tm\"].replace(\"ARI\", \"Cardinals\")\n",
    "    df[\"Tm\"] = df[\"Tm\"].replace(\"ATL\", \"Falcons\")\n",
    "    df[\"Tm\"] = df[\"Tm\"].replace(\"IND\", \"Colts\")\n",
    "    df[\"Tm\"] = df[\"Tm\"].replace(\"SFO\", \"49ers\")\n",
    "    df[\"Tm\"] = df[\"Tm\"].replace(\"CLE\", \"Browns\")\n",
    "    df[\"Tm\"] = df[\"Tm\"].replace(\"TEN\", \"Titans\")\n",
    "    df[\"Tm\"] = df[\"Tm\"].replace(\"WAS\", \"Commanders\")\n",
    "    df[\"Tm\"] = df[\"Tm\"].replace(\"NYG\", \"Giants\")\n",
    "    df[\"Tm\"] = df[\"Tm\"].replace(\"CHI\", \"Bears\")\n",
    "    df[\"Tm\"] = df[\"Tm\"].replace(\"TAM\", \"Buccaneers\")\n",
    "\n",
    "    df[\"Tm\"] = df[\"Tm\"].replace(\"MIA\", \"Dolphins\")\n",
    "    df[\"Tm\"] = df[\"Tm\"].replace(\"CAR\", \"Panthers\")\n",
    "    df[\"Tm\"] = df[\"Tm\"].replace(\"SEA\", \"Seahawks\")\n",
    "    df[\"Tm\"] = df[\"Tm\"].replace(\"2TM\", \"Take_out\")\n",
    "    df[\"Tm\"] = df[\"Tm\"].replace(\"LAR\", \"Rams\")\n",
    "    df[\"Tm\"] = df[\"Tm\"].replace(\"LAC\", \"Chargers\")\n",
    "    df[\"Tm\"] = df[\"Tm\"].replace(\"LVR\", \"Raiders\")\n",
    "    \n",
    "    df[\"Tm\"] = df[\"Tm\"].replace(\"Team\", \"Commanders\")"
   ]
  },
  {
   "cell_type": "code",
   "execution_count": 67,
   "id": "789a3af7",
   "metadata": {},
   "outputs": [],
   "source": [
    "passing = passing[(passing[\"Tm\"] != \"Take_out\") & (passing[\"Tm\"] != \"3TM\")]\n",
    "rushing = rushing[(rushing[\"Tm\"] != \"Take_out\") & (rushing[\"Tm\"] != \"3TM\" )]\n",
    "receiving = receiving[(receiving[\"Tm\"] != \"Take_out\") & (receiving[\"Tm\"] != \"3TM\")]"
   ]
  },
  {
   "cell_type": "code",
   "execution_count": null,
   "id": "f99c54b2",
   "metadata": {},
   "outputs": [],
   "source": []
  },
  {
   "cell_type": "code",
   "execution_count": 68,
   "id": "4b839982",
   "metadata": {},
   "outputs": [],
   "source": [
    "pos_team_cols =Team_Stats.columns[2:]\n",
    "for col in pos_team_cols:\n",
    "    passing[\"team_\" + col] = 0\n",
    "    rushing[\"team_\" + col] = 0\n",
    "    receiving[\"team_\" + col] = 0\n",
    "    \n",
    "\n",
    "passing.reset_index(drop=True, inplace=True)\n",
    "rushing.reset_index(drop=True, inplace=True)\n",
    "receiving.reset_index(drop=True, inplace=True)"
   ]
  },
  {
   "cell_type": "code",
   "execution_count": null,
   "id": "30a3ef2b",
   "metadata": {},
   "outputs": [],
   "source": []
  },
  {
   "cell_type": "code",
   "execution_count": 69,
   "id": "6cfe3e23",
   "metadata": {},
   "outputs": [],
   "source": [
    "df_list = [passing, rushing, receiving]\n",
    "team_years = Team_Stats[\"year\"].unique()\n",
    "for df in df_list:\n",
    "    for year in team_years:\n",
    "        for team in Team_Stats[\"team\"].unique():\n",
    "            team_values = Team_Stats[(Team_Stats[\"team\"]==team) & (Team_Stats[\"year\"]==year)].values.tolist()[0]\n",
    "            df.loc[(df[\"Tm\"] == team) & (df[\"Year\"] == year), \"team_\" + Team_Stats.columns[2:]] = team_values[2:]"
   ]
  },
  {
   "cell_type": "code",
   "execution_count": null,
   "id": "d5a5a1ff",
   "metadata": {},
   "outputs": [],
   "source": []
  },
  {
   "cell_type": "markdown",
   "id": "9d05cd2b",
   "metadata": {},
   "source": [
    "## Taking out unnessary Columns"
   ]
  },
  {
   "cell_type": "code",
   "execution_count": 70,
   "id": "8e56638d",
   "metadata": {},
   "outputs": [
    {
     "name": "stdout",
     "output_type": "stream",
     "text": [
      "18.0 % was questionable\n",
      "['Pos', 'QBrec', 'combinePosition', 'nameFirst', 'nameLast', 'nameFull', 'position', 'nflId', 'college', 'dob', 'playerProfileUrl', 'homeCity', 'homeState', 'homeCountry', 'highSchool', 'hsCity', 'hsState', 'hsCountry']\n",
      "20.238095238095237 % was questionable\n",
      "['Pos', 'combinePosition', 'nameFirst', 'nameLast', 'nameFull', 'position', 'nflId', 'college', 'dob', 'playerProfileUrl', 'homeCity', 'homeState', 'homeCountry', 'highSchool', 'hsCity', 'hsState', 'hsCountry']\n",
      "20.454545454545453 % was questionable\n",
      "['Pos', 'Ctch%', 'combinePosition', 'nameFirst', 'nameLast', 'nameFull', 'position', 'nflId', 'college', 'dob', 'playerProfileUrl', 'homeCity', 'homeState', 'homeCountry', 'highSchool', 'hsCity', 'hsState', 'hsCountry']\n"
     ]
    }
   ],
   "source": [
    "df_list = [passing, rushing, receiving]\n",
    "questionable_cols = []\n",
    "for df in df_list:\n",
    "    question = 0\n",
    "    question_temp = []\n",
    "    for col in df.columns:\n",
    "        if type(df[col][0]) != float or type(df[col][0]) != int:\n",
    "            if col != 'Player' and col != 'Tm':\n",
    "                try:\n",
    "                    df[col] = df[col].astype(float)\n",
    "                except:\n",
    "                    question_temp.append(col)\n",
    "                    question += 1\n",
    "\n",
    "    print(100*question/len(df.columns), \"% was questionable\")\n",
    "    print(question_temp)\n",
    "    questionable_cols.append(question_temp)"
   ]
  },
  {
   "cell_type": "code",
   "execution_count": 71,
   "id": "7efcb91d",
   "metadata": {},
   "outputs": [],
   "source": [
    "passing = passing.drop(columns = [questionable_cols[0]][0])\n",
    "rushing = rushing.drop(columns = [questionable_cols[1]][0])\n",
    "receiving = receiving.drop(columns = [questionable_cols[2]][0])"
   ]
  },
  {
   "cell_type": "code",
   "execution_count": null,
   "id": "5defc908",
   "metadata": {},
   "outputs": [],
   "source": []
  },
  {
   "cell_type": "markdown",
   "id": "1d8e6a3c",
   "metadata": {},
   "source": [
    "## Deal with Nan values"
   ]
  },
  {
   "cell_type": "code",
   "execution_count": 72,
   "id": "bc9403a1",
   "metadata": {},
   "outputs": [
    {
     "name": "stdout",
     "output_type": "stream",
     "text": [
      "4QC 45.950554134697356\n",
      "GWD 45.950554134697356\n",
      "QBR 15.515771526001704\n",
      "combineHand 88.57630008525149\n",
      "combineArm 88.7468030690537\n",
      "combine40yd 6.138107416879795\n",
      "combineVert 23.017902813299234\n",
      "combineBench 94.8849104859335\n",
      "combineShuttle 27.621483375959077\n",
      "combineBroad 24.21142369991475\n",
      "combine3cone 31.54305200341006\n",
      "combine60ydShuttle 98.80647911338448\n",
      "combineWonderlic 30.434782608695656\n",
      "team_mov 48.4228473998295\n",
      "team_ties 51.57715260017051\n",
      "0.18292682926829268\n",
      "combineHand 92.90780141843972\n",
      "combineArm 93.14420803782507\n",
      "combine40yd 6.796690307328605\n",
      "combineVert 11.93853427895981\n",
      "combineBench 18.55791962174941\n",
      "combineShuttle 33.92434988179669\n",
      "combineBroad 15.425531914893616\n",
      "combine3cone 39.00709219858156\n",
      "combine60ydShuttle 97.04491725768321\n",
      "combineWonderlic 93.91252955082743\n",
      "team_mov 50.945626477541374\n",
      "team_ties 49.054373522458626\n",
      "0.1791044776119403\n",
      "combineHand 88.15331010452961\n",
      "combineArm 88.93728222996515\n",
      "combine40yd 6.837979094076655\n",
      "combineVert 13.937282229965156\n",
      "combineBench 48.86759581881533\n",
      "combineShuttle 28.527874564459932\n",
      "combineBroad 16.72473867595819\n",
      "combine3cone 37.58710801393728\n",
      "combine60ydShuttle 93.8588850174216\n",
      "combineWonderlic 93.72822299651567\n",
      "team_mov 49.56445993031359\n",
      "team_ties 50.39198606271778\n",
      "0.17142857142857143\n"
     ]
    }
   ],
   "source": [
    "df_list = [passing, rushing, receiving]\n",
    "nan_columns = []\n",
    "for df in df_list:\n",
    "    temp_nan = []\n",
    "    total = 0\n",
    "    for col in df.columns:\n",
    "        column_nan_percentage = df[col].isna().mean()\n",
    "        if column_nan_percentage >= 0.05:\n",
    "            print(col, column_nan_percentage*100)\n",
    "            total += 1\n",
    "            temp_nan.append(col)\n",
    "    nan_columns.append(temp_nan)\n",
    "    print(total/len(df.columns))"
   ]
  },
  {
   "cell_type": "code",
   "execution_count": 73,
   "id": "efc7a261",
   "metadata": {},
   "outputs": [],
   "source": [
    "passing = passing.drop(columns = [nan_columns[0]][0])\n",
    "rushing = rushing.drop(columns = [nan_columns[1]][0])\n",
    "receiving = receiving.drop(columns = [nan_columns[2]][0])"
   ]
  },
  {
   "cell_type": "markdown",
   "id": "7dc79ebf",
   "metadata": {},
   "source": [
    "## Replace rest of Nan with column average"
   ]
  },
  {
   "cell_type": "code",
   "execution_count": 74,
   "id": "ff588b32",
   "metadata": {},
   "outputs": [
    {
     "name": "stdout",
     "output_type": "stream",
     "text": [
      "Y/C\n",
      "ageAtDraft\n",
      "ageAtDraft\n",
      "Tgt\n",
      "Y/R\n",
      "Succ%\n",
      "Y/Tgt\n",
      "Fmb\n",
      "ageAtDraft\n"
     ]
    }
   ],
   "source": [
    "df_list = [passing, rushing, receiving]\n",
    "for df in df_list:\n",
    "    total = 0\n",
    "    for col in df.columns:\n",
    "        column_nan_percentage = df[col].isna().mean()\n",
    "        if column_nan_percentage > 0:\n",
    "            \n",
    "            column_average = df[col].mean()\n",
    "\n",
    "\n",
    "            df[col] = df[col].fillna(column_average)\n",
    "            print(col)"
   ]
  },
  {
   "cell_type": "markdown",
   "id": "7e87b6e0",
   "metadata": {},
   "source": [
    "# WebScrape Fantasy Football Rankings from Pro Football Reference"
   ]
  },
  {
   "cell_type": "code",
   "execution_count": 75,
   "id": "d4030175",
   "metadata": {},
   "outputs": [
    {
     "data": {
      "text/plain": [
       "array([2004, 2005, 2006, 2007, 2008, 2009, 2010, 2011, 2012, 2013, 2014,\n",
       "       2015, 2016, 2017, 2018, 2019, 2020, 2021, 2022, 2023])"
      ]
     },
     "execution_count": 75,
     "metadata": {},
     "output_type": "execute_result"
    }
   ],
   "source": [
    "website_begining = 'https://www.pro-football-reference.com/years/'\n",
    "years = Team_Stats[\"year\"].unique()\n",
    "years_fantasy = years + 1\n",
    "positions = ['passing', 'rushing', 'receiving']\n",
    "years_fantasy"
   ]
  },
  {
   "cell_type": "code",
   "execution_count": 196,
   "id": "fafa7226",
   "metadata": {},
   "outputs": [
    {
     "name": "stdout",
     "output_type": "stream",
     "text": [
      "2004\n",
      "2005\n",
      "2006\n",
      "2007\n",
      "2008\n",
      "2009\n",
      "2010\n",
      "2011\n",
      "2012\n",
      "2013\n",
      "2014\n",
      "2015\n",
      "2016\n",
      "2017\n",
      "2018\n",
      "2019\n",
      "2020\n",
      "2021\n",
      "2022\n",
      "2023\n"
     ]
    }
   ],
   "source": [
    "for year in years_fantasy:\n",
    "    link = website_begining + str(year) + '/fantasy.htm'\n",
    "\n",
    "    df = pd.read_html(link)\n",
    "\n",
    "    csv_name = 'data/'+str(year) + '_Fantasy_Score.csv'\n",
    "    df[0].to_csv(csv_name, sep=',', index=False, encoding='utf-8')\n",
    "    time.sleep(4.2) #wait four seconds\n",
    "    print(year)"
   ]
  },
  {
   "cell_type": "code",
   "execution_count": 76,
   "id": "ba0b0284",
   "metadata": {},
   "outputs": [],
   "source": [
    "Fantasy = pd.read_csv('data/2003_Fantasy_Score.csv')\n",
    "\n",
    "Fantasy[\"Year\"] = years_fantasy[0]\n",
    "for year in years_fantasy[1:]:\n",
    "    temp = pd.read_csv('data/' + str(year) + '_Fantasy_Score.csv')\n",
    "    temp[\"Year\"] = year\n",
    "    Fantasy = pd.concat([Fantasy, temp])\n",
    "    \n",
    "    \n",
    "    \n",
    "Fantasy.columns = Fantasy.iloc[0]\n",
    "Fantasy = Fantasy.drop(0)\n",
    "Fantasy.rename(columns={years_fantasy[0]: 'Year'}, inplace=True)\n",
    "\n",
    "\n",
    "Fantasy = Fantasy[(Fantasy[\"FantPos\"] == \"QB\") | (Fantasy[\"FantPos\"] == \"WR\") | (Fantasy[\"FantPos\"] == \"RB\")]\n",
    "\n",
    "Fantasy.reset_index(drop=True, inplace=True)"
   ]
  },
  {
   "cell_type": "code",
   "execution_count": null,
   "id": "904f46be",
   "metadata": {},
   "outputs": [],
   "source": []
  },
  {
   "cell_type": "code",
   "execution_count": 77,
   "id": "c7206406",
   "metadata": {},
   "outputs": [],
   "source": [
    "index = 0\n",
    "for name in Fantasy[\"Player\"]:\n",
    "    front = name[:-2]\n",
    "    \n",
    "    back = re.sub(r'[^a-zA-Z]', '', name[-2:])\n",
    "    \n",
    "    Fantasy[\"Player\"][index] = front + back\n",
    "    \n",
    "    index += 1\n",
    "    \n",
    "keep_columns = ['Player', 'PosRank', 'Year']\n",
    "\n",
    "Fantasy = Fantasy[keep_columns]"
   ]
  },
  {
   "cell_type": "markdown",
   "id": "95ab93c7",
   "metadata": {},
   "source": [
    "# Add Rankings to Dfs"
   ]
  },
  {
   "cell_type": "code",
   "execution_count": 78,
   "id": "adbcbe16",
   "metadata": {},
   "outputs": [],
   "source": [
    "\n",
    "passing[\"Next_Year_PosRank\"] = 0\n",
    "rushing[\"Next_Year_PosRank\"] = 0\n",
    "receiving[\"Next_Year_PosRank\"] = 0\n",
    "    \n",
    "\n",
    "passing.reset_index(drop=True, inplace=True)\n",
    "rushing.reset_index(drop=True, inplace=True)\n",
    "receiving.reset_index(drop=True, inplace=True)"
   ]
  },
  {
   "cell_type": "code",
   "execution_count": 79,
   "id": "c72690b1",
   "metadata": {},
   "outputs": [
    {
     "name": "stdout",
     "output_type": "stream",
     "text": [
      "82% of the players had PosRank data\n"
     ]
    }
   ],
   "source": [
    "\n",
    "fantasy_names = Fantasy[\"Player\"].unique()\n",
    "total = 0\n",
    "has_data = 0\n",
    "for df in df_list:\n",
    "    df_names = df[\"Player\"].unique()\n",
    "    total += len(df_names)\n",
    "    for name in df_names:\n",
    "        if name in fantasy_names:\n",
    "            for year in years:\n",
    "                try:\n",
    "                    fantasy_value = int(Fantasy[(Fantasy[\"Player\"] == name) & (Fantasy[\"Year\"] == year + 1)][\"PosRank\"])\n",
    "                \n",
    "                    df.loc[(df[\"Player\"] == name) & (df[\"Year\"] == year), ['Next_Year_PosRank']] = fantasy_value\n",
    "        \n",
    "                #df[(df[\"Player\"] == name) & (df[\"Year\"] == year)]['PosRank'] = fantasy_value\n",
    "\n",
    "                    has_data += 1\n",
    "                    total += 1\n",
    "                except:\n",
    "                    pass\n",
    "    \n",
    "    \n",
    "print(str(int(100*has_data/total)) + \"% of the players had PosRank data\")"
   ]
  },
  {
   "cell_type": "code",
   "execution_count": null,
   "id": "711dc677",
   "metadata": {},
   "outputs": [],
   "source": []
  },
  {
   "cell_type": "markdown",
   "id": "5201a440",
   "metadata": {},
   "source": [
    "# Normalizing all of the columns using Z-Score normalization"
   ]
  },
  {
   "cell_type": "code",
   "execution_count": 81,
   "id": "4f580fb9",
   "metadata": {},
   "outputs": [],
   "source": [
    "from sklearn.preprocessing import StandardScaler\n",
    "scaler_standard = StandardScaler()\n",
    "\n",
    "df_list = [passing, rushing, receiving]\n",
    "for df in df_list:\n",
    "    for col in df.columns:\n",
    "        if (df[col].dtype == float or df[col].dtype == int) and col != \"Next_Year_PosRank\":\n",
    "            df[col] = scaler_standard.fit_transform(df[[col]])\n"
   ]
  },
  {
   "cell_type": "code",
   "execution_count": 82,
   "id": "fd9d18d6",
   "metadata": {},
   "outputs": [
    {
     "data": {
      "text/html": [
       "<div>\n",
       "<style scoped>\n",
       "    .dataframe tbody tr th:only-of-type {\n",
       "        vertical-align: middle;\n",
       "    }\n",
       "\n",
       "    .dataframe tbody tr th {\n",
       "        vertical-align: top;\n",
       "    }\n",
       "\n",
       "    .dataframe thead th {\n",
       "        text-align: right;\n",
       "    }\n",
       "</style>\n",
       "<table border=\"1\" class=\"dataframe\">\n",
       "  <thead>\n",
       "    <tr style=\"text-align: right;\">\n",
       "      <th></th>\n",
       "      <th>Player</th>\n",
       "      <th>Tm</th>\n",
       "      <th>Age</th>\n",
       "      <th>G</th>\n",
       "      <th>GS</th>\n",
       "      <th>Cmp</th>\n",
       "      <th>Att</th>\n",
       "      <th>Cmp%</th>\n",
       "      <th>Yds</th>\n",
       "      <th>TD</th>\n",
       "      <th>...</th>\n",
       "      <th>team_rush_td</th>\n",
       "      <th>team_rush_yds_per_att</th>\n",
       "      <th>team_rush_fd</th>\n",
       "      <th>team_penalties</th>\n",
       "      <th>team_penalties_yds</th>\n",
       "      <th>team_pen_fd</th>\n",
       "      <th>team_score_pct</th>\n",
       "      <th>team_turnover_pct</th>\n",
       "      <th>team_exp_pts_tot</th>\n",
       "      <th>Next_Year_PosRank</th>\n",
       "    </tr>\n",
       "  </thead>\n",
       "  <tbody>\n",
       "    <tr>\n",
       "      <th>0</th>\n",
       "      <td>Peyton Manning</td>\n",
       "      <td>Colts</td>\n",
       "      <td>-0.344709</td>\n",
       "      <td>1.229417</td>\n",
       "      <td>1.297227</td>\n",
       "      <td>1.569013</td>\n",
       "      <td>1.419425</td>\n",
       "      <td>0.614432</td>\n",
       "      <td>1.506824</td>\n",
       "      <td>1.547104</td>\n",
       "      <td>...</td>\n",
       "      <td>0.606368</td>\n",
       "      <td>-1.121308</td>\n",
       "      <td>0.287212</td>\n",
       "      <td>-0.636309</td>\n",
       "      <td>-1.345998</td>\n",
       "      <td>0.581065</td>\n",
       "      <td>1.940346</td>\n",
       "      <td>-0.796676</td>\n",
       "      <td>0.322892</td>\n",
       "      <td>2</td>\n",
       "    </tr>\n",
       "    <tr>\n",
       "      <th>1</th>\n",
       "      <td>Trent Green</td>\n",
       "      <td>Chiefs</td>\n",
       "      <td>0.981007</td>\n",
       "      <td>1.229417</td>\n",
       "      <td>1.297227</td>\n",
       "      <td>1.219180</td>\n",
       "      <td>1.222175</td>\n",
       "      <td>0.305001</td>\n",
       "      <td>1.366436</td>\n",
       "      <td>1.112370</td>\n",
       "      <td>...</td>\n",
       "      <td>3.855103</td>\n",
       "      <td>0.266377</td>\n",
       "      <td>1.081787</td>\n",
       "      <td>-1.443082</td>\n",
       "      <td>-1.096188</td>\n",
       "      <td>-0.095249</td>\n",
       "      <td>0.751906</td>\n",
       "      <td>-1.320067</td>\n",
       "      <td>0.745546</td>\n",
       "      <td>3</td>\n",
       "    </tr>\n",
       "    <tr>\n",
       "      <th>2</th>\n",
       "      <td>Marc Bulger</td>\n",
       "      <td>Rams</td>\n",
       "      <td>-0.565661</td>\n",
       "      <td>1.050495</td>\n",
       "      <td>1.142698</td>\n",
       "      <td>1.262016</td>\n",
       "      <td>1.263460</td>\n",
       "      <td>0.312935</td>\n",
       "      <td>1.246982</td>\n",
       "      <td>0.938477</td>\n",
       "      <td>...</td>\n",
       "      <td>1.215506</td>\n",
       "      <td>-1.352589</td>\n",
       "      <td>-0.060414</td>\n",
       "      <td>-0.636309</td>\n",
       "      <td>-1.311302</td>\n",
       "      <td>-0.095249</td>\n",
       "      <td>1.167860</td>\n",
       "      <td>1.235316</td>\n",
       "      <td>-0.885263</td>\n",
       "      <td>10</td>\n",
       "    </tr>\n",
       "    <tr>\n",
       "      <th>3</th>\n",
       "      <td>Brad Johnson</td>\n",
       "      <td>Buccaneers</td>\n",
       "      <td>1.422912</td>\n",
       "      <td>1.229417</td>\n",
       "      <td>1.297227</td>\n",
       "      <td>1.390527</td>\n",
       "      <td>1.437774</td>\n",
       "      <td>0.225660</td>\n",
       "      <td>1.226047</td>\n",
       "      <td>1.286264</td>\n",
       "      <td>...</td>\n",
       "      <td>-1.627137</td>\n",
       "      <td>-0.658746</td>\n",
       "      <td>-0.606685</td>\n",
       "      <td>0.915180</td>\n",
       "      <td>1.721115</td>\n",
       "      <td>0.445802</td>\n",
       "      <td>-1.149598</td>\n",
       "      <td>0.989014</td>\n",
       "      <td>-1.350900</td>\n",
       "      <td>12</td>\n",
       "    </tr>\n",
       "    <tr>\n",
       "      <th>4</th>\n",
       "      <td>Tom Brady</td>\n",
       "      <td>Patriots</td>\n",
       "      <td>-0.565661</td>\n",
       "      <td>1.229417</td>\n",
       "      <td>1.297227</td>\n",
       "      <td>1.126367</td>\n",
       "      <td>1.240524</td>\n",
       "      <td>0.074911</td>\n",
       "      <td>1.108441</td>\n",
       "      <td>1.025423</td>\n",
       "      <td>...</td>\n",
       "      <td>-0.814953</td>\n",
       "      <td>-1.815151</td>\n",
       "      <td>-0.358380</td>\n",
       "      <td>0.542822</td>\n",
       "      <td>0.985563</td>\n",
       "      <td>-0.230512</td>\n",
       "      <td>-0.793066</td>\n",
       "      <td>-0.458010</td>\n",
       "      <td>-0.697926</td>\n",
       "      <td>13</td>\n",
       "    </tr>\n",
       "    <tr>\n",
       "      <th>...</th>\n",
       "      <td>...</td>\n",
       "      <td>...</td>\n",
       "      <td>...</td>\n",
       "      <td>...</td>\n",
       "      <td>...</td>\n",
       "      <td>...</td>\n",
       "      <td>...</td>\n",
       "      <td>...</td>\n",
       "      <td>...</td>\n",
       "      <td>...</td>\n",
       "      <td>...</td>\n",
       "      <td>...</td>\n",
       "      <td>...</td>\n",
       "      <td>...</td>\n",
       "      <td>...</td>\n",
       "      <td>...</td>\n",
       "      <td>...</td>\n",
       "      <td>...</td>\n",
       "      <td>...</td>\n",
       "      <td>...</td>\n",
       "      <td>...</td>\n",
       "    </tr>\n",
       "    <tr>\n",
       "      <th>1168</th>\n",
       "      <td>Blaine Gabbert</td>\n",
       "      <td>Buccaneers</td>\n",
       "      <td>0.981007</td>\n",
       "      <td>-1.454403</td>\n",
       "      <td>-1.175237</td>\n",
       "      <td>-1.094005</td>\n",
       "      <td>-1.140242</td>\n",
       "      <td>1.249163</td>\n",
       "      <td>-1.102679</td>\n",
       "      <td>-0.887406</td>\n",
       "      <td>...</td>\n",
       "      <td>-1.627137</td>\n",
       "      <td>-1.815151</td>\n",
       "      <td>-0.954311</td>\n",
       "      <td>-0.201892</td>\n",
       "      <td>-0.436966</td>\n",
       "      <td>-0.095249</td>\n",
       "      <td>-0.183990</td>\n",
       "      <td>-0.765888</td>\n",
       "      <td>0.447756</td>\n",
       "      <td>66</td>\n",
       "    </tr>\n",
       "    <tr>\n",
       "      <th>1169</th>\n",
       "      <td>Brandon Allen</td>\n",
       "      <td>Bengals</td>\n",
       "      <td>0.318149</td>\n",
       "      <td>-1.454403</td>\n",
       "      <td>-1.175237</td>\n",
       "      <td>-1.115423</td>\n",
       "      <td>-1.163178</td>\n",
       "      <td>3.232697</td>\n",
       "      <td>-1.106989</td>\n",
       "      <td>-0.974352</td>\n",
       "      <td>...</td>\n",
       "      <td>0.200276</td>\n",
       "      <td>-0.890027</td>\n",
       "      <td>-0.110075</td>\n",
       "      <td>-1.318963</td>\n",
       "      <td>-1.616625</td>\n",
       "      <td>1.663167</td>\n",
       "      <td>1.227282</td>\n",
       "      <td>-0.950614</td>\n",
       "      <td>1.668822</td>\n",
       "      <td>0</td>\n",
       "    </tr>\n",
       "    <tr>\n",
       "      <th>1170</th>\n",
       "      <td>Josh Johnson</td>\n",
       "      <td>49ers</td>\n",
       "      <td>1.643865</td>\n",
       "      <td>-1.275482</td>\n",
       "      <td>-1.175237</td>\n",
       "      <td>-1.129702</td>\n",
       "      <td>-1.167766</td>\n",
       "      <td>-0.734371</td>\n",
       "      <td>-1.114378</td>\n",
       "      <td>-0.974352</td>\n",
       "      <td>...</td>\n",
       "      <td>1.418552</td>\n",
       "      <td>1.191501</td>\n",
       "      <td>1.677718</td>\n",
       "      <td>-0.512189</td>\n",
       "      <td>-0.874134</td>\n",
       "      <td>-0.095249</td>\n",
       "      <td>1.212427</td>\n",
       "      <td>-1.135341</td>\n",
       "      <td>1.782690</td>\n",
       "      <td>0</td>\n",
       "    </tr>\n",
       "    <tr>\n",
       "      <th>1171</th>\n",
       "      <td>Case Keenum</td>\n",
       "      <td>Bills</td>\n",
       "      <td>1.201960</td>\n",
       "      <td>-1.275482</td>\n",
       "      <td>-1.175237</td>\n",
       "      <td>-1.122563</td>\n",
       "      <td>-1.144830</td>\n",
       "      <td>-2.432276</td>\n",
       "      <td>-1.115609</td>\n",
       "      <td>-0.974352</td>\n",
       "      <td>...</td>\n",
       "      <td>0.403322</td>\n",
       "      <td>2.347905</td>\n",
       "      <td>1.479074</td>\n",
       "      <td>-0.636309</td>\n",
       "      <td>-1.019857</td>\n",
       "      <td>-0.095249</td>\n",
       "      <td>1.747225</td>\n",
       "      <td>0.742712</td>\n",
       "      <td>1.750787</td>\n",
       "      <td>64</td>\n",
       "    </tr>\n",
       "    <tr>\n",
       "      <th>1172</th>\n",
       "      <td>Chad Henne</td>\n",
       "      <td>Chiefs</td>\n",
       "      <td>1.864817</td>\n",
       "      <td>-1.096560</td>\n",
       "      <td>-1.175237</td>\n",
       "      <td>-1.136842</td>\n",
       "      <td>-1.167766</td>\n",
       "      <td>-4.701439</td>\n",
       "      <td>-1.120535</td>\n",
       "      <td>-0.974352</td>\n",
       "      <td>...</td>\n",
       "      <td>1.012460</td>\n",
       "      <td>1.191501</td>\n",
       "      <td>0.336873</td>\n",
       "      <td>-0.946606</td>\n",
       "      <td>-0.124704</td>\n",
       "      <td>0.445802</td>\n",
       "      <td>1.955202</td>\n",
       "      <td>-0.827463</td>\n",
       "      <td>2.779852</td>\n",
       "      <td>0</td>\n",
       "    </tr>\n",
       "  </tbody>\n",
       "</table>\n",
       "<p>1173 rows × 68 columns</p>\n",
       "</div>"
      ],
      "text/plain": [
       "              Player          Tm       Age         G        GS       Cmp  \\\n",
       "0     Peyton Manning       Colts -0.344709  1.229417  1.297227  1.569013   \n",
       "1        Trent Green      Chiefs  0.981007  1.229417  1.297227  1.219180   \n",
       "2        Marc Bulger        Rams -0.565661  1.050495  1.142698  1.262016   \n",
       "3       Brad Johnson  Buccaneers  1.422912  1.229417  1.297227  1.390527   \n",
       "4          Tom Brady    Patriots -0.565661  1.229417  1.297227  1.126367   \n",
       "...              ...         ...       ...       ...       ...       ...   \n",
       "1168  Blaine Gabbert  Buccaneers  0.981007 -1.454403 -1.175237 -1.094005   \n",
       "1169   Brandon Allen     Bengals  0.318149 -1.454403 -1.175237 -1.115423   \n",
       "1170    Josh Johnson       49ers  1.643865 -1.275482 -1.175237 -1.129702   \n",
       "1171     Case Keenum       Bills  1.201960 -1.275482 -1.175237 -1.122563   \n",
       "1172      Chad Henne      Chiefs  1.864817 -1.096560 -1.175237 -1.136842   \n",
       "\n",
       "           Att      Cmp%       Yds        TD  ...  team_rush_td  \\\n",
       "0     1.419425  0.614432  1.506824  1.547104  ...      0.606368   \n",
       "1     1.222175  0.305001  1.366436  1.112370  ...      3.855103   \n",
       "2     1.263460  0.312935  1.246982  0.938477  ...      1.215506   \n",
       "3     1.437774  0.225660  1.226047  1.286264  ...     -1.627137   \n",
       "4     1.240524  0.074911  1.108441  1.025423  ...     -0.814953   \n",
       "...        ...       ...       ...       ...  ...           ...   \n",
       "1168 -1.140242  1.249163 -1.102679 -0.887406  ...     -1.627137   \n",
       "1169 -1.163178  3.232697 -1.106989 -0.974352  ...      0.200276   \n",
       "1170 -1.167766 -0.734371 -1.114378 -0.974352  ...      1.418552   \n",
       "1171 -1.144830 -2.432276 -1.115609 -0.974352  ...      0.403322   \n",
       "1172 -1.167766 -4.701439 -1.120535 -0.974352  ...      1.012460   \n",
       "\n",
       "      team_rush_yds_per_att  team_rush_fd  team_penalties  team_penalties_yds  \\\n",
       "0                 -1.121308      0.287212       -0.636309           -1.345998   \n",
       "1                  0.266377      1.081787       -1.443082           -1.096188   \n",
       "2                 -1.352589     -0.060414       -0.636309           -1.311302   \n",
       "3                 -0.658746     -0.606685        0.915180            1.721115   \n",
       "4                 -1.815151     -0.358380        0.542822            0.985563   \n",
       "...                     ...           ...             ...                 ...   \n",
       "1168              -1.815151     -0.954311       -0.201892           -0.436966   \n",
       "1169              -0.890027     -0.110075       -1.318963           -1.616625   \n",
       "1170               1.191501      1.677718       -0.512189           -0.874134   \n",
       "1171               2.347905      1.479074       -0.636309           -1.019857   \n",
       "1172               1.191501      0.336873       -0.946606           -0.124704   \n",
       "\n",
       "      team_pen_fd  team_score_pct  team_turnover_pct  team_exp_pts_tot  \\\n",
       "0        0.581065        1.940346          -0.796676          0.322892   \n",
       "1       -0.095249        0.751906          -1.320067          0.745546   \n",
       "2       -0.095249        1.167860           1.235316         -0.885263   \n",
       "3        0.445802       -1.149598           0.989014         -1.350900   \n",
       "4       -0.230512       -0.793066          -0.458010         -0.697926   \n",
       "...           ...             ...                ...               ...   \n",
       "1168    -0.095249       -0.183990          -0.765888          0.447756   \n",
       "1169     1.663167        1.227282          -0.950614          1.668822   \n",
       "1170    -0.095249        1.212427          -1.135341          1.782690   \n",
       "1171    -0.095249        1.747225           0.742712          1.750787   \n",
       "1172     0.445802        1.955202          -0.827463          2.779852   \n",
       "\n",
       "      Next_Year_PosRank  \n",
       "0                     2  \n",
       "1                     3  \n",
       "2                    10  \n",
       "3                    12  \n",
       "4                    13  \n",
       "...                 ...  \n",
       "1168                 66  \n",
       "1169                  0  \n",
       "1170                  0  \n",
       "1171                 64  \n",
       "1172                  0  \n",
       "\n",
       "[1173 rows x 68 columns]"
      ]
     },
     "execution_count": 82,
     "metadata": {},
     "output_type": "execute_result"
    }
   ],
   "source": [
    "passing"
   ]
  },
  {
   "cell_type": "code",
   "execution_count": 83,
   "id": "03ef206e",
   "metadata": {},
   "outputs": [
    {
     "name": "stdout",
     "output_type": "stream",
     "text": [
      "Final Shapes of DataFrames:\n",
      "\n",
      "Passing Observations: 1173        Passing Parameters: 66 \n",
      "\n",
      "Rushing Observations: 1692        Rushing Parameters: 54 \n",
      "\n",
      "Receiving Observations: 2296      Receiving Parameters: 57 \n",
      "\n"
     ]
    }
   ],
   "source": [
    "print(\"Final Shapes of DataFrames:\\n\")\n",
    "print('Passing Observations:', passing.shape[0], '       Passing Parameters:', passing.shape[1] - 2, '\\n')\n",
    "print('Rushing Observations:', rushing.shape[0], '       Rushing Parameters:', rushing.shape[1] - 2, '\\n')\n",
    "print('Receiving Observations:', receiving.shape[0], '     Receiving Parameters:', receiving.shape[1] - 2, '\\n')"
   ]
  },
  {
   "cell_type": "code",
   "execution_count": 84,
   "id": "d7ae0111",
   "metadata": {},
   "outputs": [],
   "source": [
    "passing.to_csv('data/Cleaned_Passing.csv', sep=',', index=False, encoding='utf-8')\n",
    "rushing.to_csv('data/Cleaned_Rushing.csv', sep=',', index=False, encoding='utf-8')\n",
    "receiving.to_csv('data/Cleaned_Receiving.csv', sep=',', index=False, encoding='utf-8')"
   ]
  },
  {
   "cell_type": "code",
   "execution_count": null,
   "id": "0de08af8",
   "metadata": {},
   "outputs": [],
   "source": []
  }
 ],
 "metadata": {
  "kernelspec": {
   "display_name": "Python 3 (ipykernel)",
   "language": "python",
   "name": "python3"
  },
  "language_info": {
   "codemirror_mode": {
    "name": "ipython",
    "version": 3
   },
   "file_extension": ".py",
   "mimetype": "text/x-python",
   "name": "python",
   "nbconvert_exporter": "python",
   "pygments_lexer": "ipython3",
   "version": "3.9.5"
  }
 },
 "nbformat": 4,
 "nbformat_minor": 5
}
